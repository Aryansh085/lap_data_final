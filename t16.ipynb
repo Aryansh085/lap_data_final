{
  "nbformat": 4,
  "nbformat_minor": 0,
  "metadata": {
    "colab": {
      "provenance": [],
      "include_colab_link": true
    },
    "kernelspec": {
      "name": "python3",
      "display_name": "Python 3"
    },
    "language_info": {
      "name": "python"
    },
    "accelerator": "GPU",
    "gpuClass": "standard"
  },
  "cells": [
    {
      "cell_type": "markdown",
      "metadata": {
        "id": "view-in-github",
        "colab_type": "text"
      },
      "source": [
        "<a href=\"https://colab.research.google.com/github/Aryansh085/lap_data_final/blob/main/t16.ipynb\" target=\"_parent\"><img src=\"https://colab.research.google.com/assets/colab-badge.svg\" alt=\"Open In Colab\"/></a>"
      ]
    },
    {
      "cell_type": "code",
      "source": [
        "import numpy as np\n",
        "import tensorflow as tf\n",
        "from tensorflow.keras import losses as lo_ss\n",
        "from tensorflow.keras.models import Sequential\n",
        "from tensorflow.keras.layers import LSTM\n",
        "from tensorflow.keras.layers import Dense, Dropout\n",
        "import string\n",
        "import pandas as pd\n",
        "from matplotlib import pyplot as plt\n",
        "from sklearn.preprocessing import StandardScaler\n",
        "import seaborn as sns\n",
        "from sklearn import model_selection\n",
        "from sklearn.datasets import make_classification\n",
        "from sklearn.utils import class_weight\n",
        "from sklearn.metrics import classification_report , roc_auc_score\n",
        "import keras \n",
        "import keras.backend as K\n",
        "from google.colab import drive\n",
        "from numpy import savetxt\n",
        "import os"
      ],
      "metadata": {
        "id": "V1kLUX7gJ3N_"
      },
      "execution_count": 82,
      "outputs": []
    },
    {
      "cell_type": "code",
      "source": [
        "drive.mount('/content/gdrive')\n"
      ],
      "metadata": {
        "colab": {
          "base_uri": "https://localhost:8080/"
        },
        "id": "HXmXAIAJArT2",
        "outputId": "b5cd73b8-39d1-4788-92f1-04dbb5ac1005"
      },
      "execution_count": 83,
      "outputs": [
        {
          "output_type": "stream",
          "name": "stdout",
          "text": [
            "Drive already mounted at /content/gdrive; to attempt to forcibly remount, call drive.mount(\"/content/gdrive\", force_remount=True).\n"
          ]
        }
      ]
    },
    {
      "cell_type": "code",
      "source": [
        "t=16"
      ],
      "metadata": {
        "id": "uLTug-YJDW8D"
      },
      "execution_count": 84,
      "outputs": []
    },
    {
      "cell_type": "code",
      "source": [
        "os.chdir('/content/gdrive/MyDrive/laplstm/final/t'+str(t))"
      ],
      "metadata": {
        "id": "ubPkwGQnA8Wx"
      },
      "execution_count": 85,
      "outputs": []
    },
    {
      "cell_type": "code",
      "source": [
        "import os\n",
        "github_raw_link=\"https://raw.githubusercontent.com/Aryansh085/LAP/main/858417d1-7d54-4115-a01b-fdda5e03ada3_testing_combined_rows4035_disc_1_0p9_MULTIPLY_preproces_155cols.csv\"\n",
        "df1=pd.read_csv((github_raw_link),header = None)\n",
        "dftemp=np.array(df1)\n",
        "dftemp.shape\n",
        "dftemp2=dftemp[:,5:]\n",
        "dftemp2=np.array(dftemp2)\n",
        "print(dftemp2.shape)"
      ],
      "metadata": {
        "id": "3UWvhrydJ8hA",
        "colab": {
          "base_uri": "https://localhost:8080/"
        },
        "outputId": "cac12cb4-1810-4452-f801-c14e58d49770"
      },
      "execution_count": 86,
      "outputs": [
        {
          "output_type": "stream",
          "name": "stdout",
          "text": [
            "(4035, 150)\n"
          ]
        }
      ]
    },
    {
      "cell_type": "code",
      "source": [
        "# dftemp2\n",
        "dftemp2.shape\n",
        "# dftemp2=pd.DataFrame(dftemp2)\n",
        "# dftemp2.head()"
      ],
      "metadata": {
        "id": "h00YSxPn8rUk",
        "colab": {
          "base_uri": "https://localhost:8080/"
        },
        "outputId": "90fcd2a5-6fe8-4799-b939-2d259d747eb6"
      },
      "execution_count": 87,
      "outputs": [
        {
          "output_type": "execute_result",
          "data": {
            "text/plain": [
              "(4035, 150)"
            ]
          },
          "metadata": {},
          "execution_count": 87
        }
      ]
    },
    {
      "cell_type": "markdown",
      "source": [
        "--> muliply the reward of that instance into the loss of that instance to give weight"
      ],
      "metadata": {
        "id": "pPfqIsthYP2X"
      }
    },
    {
      "cell_type": "code",
      "source": [
        "from sklearn.preprocessing import StandardScaler\n",
        "\n",
        "slr=StandardScaler()\n",
        "slr.fit(dftemp2)\n",
        "dftemp2 = slr.transform(dftemp2)"
      ],
      "metadata": {
        "id": "kWYAqDfnO_1i"
      },
      "execution_count": 88,
      "outputs": []
    },
    {
      "cell_type": "code",
      "source": [
        "# f1-score function\n",
        "def get_f1(y_true, y_pred): #taken from old keras source code\n",
        "    true_positives = K.sum(K.round(K.clip(y_true * y_pred, 0, 1)))\n",
        "    possible_positives = K.sum(K.round(K.clip(y_true, 0, 1)))\n",
        "    predicted_positives = K.sum(K.round(K.clip(y_pred, 0, 1)))\n",
        "    precision = true_positives / (predicted_positives + K.epsilon())\n",
        "    recall = true_positives / (possible_positives + K.epsilon())\n",
        "    f1_val = 2*(precision*recall)/(precision+recall+K.epsilon())\n",
        "    return f1_val\n",
        "    "
      ],
      "metadata": {
        "id": "4i-6LDL58GyW"
      },
      "execution_count": 89,
      "outputs": []
    },
    {
      "cell_type": "code",
      "source": [],
      "metadata": {
        "id": "83zizsyvKHzh"
      },
      "execution_count": 89,
      "outputs": []
    },
    {
      "cell_type": "code",
      "source": [
        "y=np.array(dftemp[:,0])\n",
        "print(y)\n",
        "y_new=y[t:]\n",
        "y_new.shape\n"
      ],
      "metadata": {
        "id": "XmXnkjOiKIGQ",
        "colab": {
          "base_uri": "https://localhost:8080/"
        },
        "outputId": "1a373362-f481-4472-aef8-8d5a2e0c5813"
      },
      "execution_count": 90,
      "outputs": [
        {
          "output_type": "stream",
          "name": "stdout",
          "text": [
            "[2. 0. 0. ... 0. 2. 2.]\n"
          ]
        },
        {
          "output_type": "execute_result",
          "data": {
            "text/plain": [
              "(4019,)"
            ]
          },
          "metadata": {},
          "execution_count": 90
        }
      ]
    },
    {
      "cell_type": "code",
      "source": [
        "x=np.array(dftemp2)\n",
        "# print(x)\n",
        "# print(x.shape)\n",
        "x.shape,y_new.shape"
      ],
      "metadata": {
        "id": "3JPzLQQmKhZk",
        "colab": {
          "base_uri": "https://localhost:8080/"
        },
        "outputId": "e9bfe76e-6731-4d2d-d0fc-1ef53910acbd"
      },
      "execution_count": 91,
      "outputs": [
        {
          "output_type": "execute_result",
          "data": {
            "text/plain": [
              "((4035, 150), (4019,))"
            ]
          },
          "metadata": {},
          "execution_count": 91
        }
      ]
    },
    {
      "cell_type": "code",
      "source": [
        "x_3d=[]\n",
        "for i in range(4035-t):\n",
        "  tmp=[]\n",
        "  for j in range(t):\n",
        "    tmp.append(x[j+i])\n",
        "  x_3d.append(tmp)\n",
        "x_3d= np.array(x_3d)\n",
        "x_3d.shape"
      ],
      "metadata": {
        "id": "hdDY6fhENZ2-",
        "colab": {
          "base_uri": "https://localhost:8080/"
        },
        "outputId": "017f9bcb-1e01-4b4b-eb2a-6d03adfa6788"
      },
      "execution_count": 92,
      "outputs": [
        {
          "output_type": "execute_result",
          "data": {
            "text/plain": [
              "(4019, 16, 150)"
            ]
          },
          "metadata": {},
          "execution_count": 92
        }
      ]
    },
    {
      "cell_type": "code",
      "source": [
        "train_test_ratio=0.8\n",
        "print(x_3d.shape[0])\n",
        "x_train=[]\n",
        "y_train=[]\n",
        "x_test=[]\n",
        "y_test=[]\n",
        "for i in range(x_3d.shape[0]):\n",
        "  l=[]\n",
        "  ly=[]\n",
        "  no=np.random.randint(100)\n",
        "  if(no<80):\n",
        "    l=x_3d[i]\n",
        "    ly=y_new[i]\n",
        "    x_train.append(l)\n",
        "    y_train.append(ly)\n",
        "  else:\n",
        "    l=x_3d[i]\n",
        "    ly=y_new[i]\n",
        "    x_test.append(l)\n",
        "    y_test.append(ly)\n",
        "\n",
        "\n",
        "x_train=np.array(x_train)\n",
        "y_train=np.array(y_train)\n",
        "x_test=np.array(x_test)\n",
        "y_test=np.array(y_test)\n",
        "x_train.shape,y_train.shape,x_test.shape,y_test.shape"
      ],
      "metadata": {
        "id": "AwnZ3Mh1Khi8",
        "colab": {
          "base_uri": "https://localhost:8080/"
        },
        "outputId": "c1ee0ea0-3a4a-4209-cca4-ee7ac59e0df6"
      },
      "execution_count": 93,
      "outputs": [
        {
          "output_type": "stream",
          "name": "stdout",
          "text": [
            "4019\n"
          ]
        },
        {
          "output_type": "execute_result",
          "data": {
            "text/plain": [
              "((3215, 16, 150), (3215,), (804, 16, 150), (804,))"
            ]
          },
          "metadata": {},
          "execution_count": 93
        }
      ]
    },
    {
      "cell_type": "code",
      "source": [
        "cnt0=0\n",
        "cnt1=0\n",
        "cnt2=0\n",
        "for i in range(x_train.shape[0]):\n",
        "  if(y_train[i]==0):\n",
        "    cnt0+=1\n",
        "  elif(y_train[i]==1):\n",
        "    cnt1+=1\n",
        "  elif(y_train[i]==2):\n",
        "    cnt2+=1\n",
        "print(cnt0)\n",
        "print(cnt1)\n",
        "print(cnt2)  "
      ],
      "metadata": {
        "id": "xlijLVYecmcq",
        "colab": {
          "base_uri": "https://localhost:8080/"
        },
        "outputId": "e993913f-95a9-4372-e19e-9d063d891b82"
      },
      "execution_count": 94,
      "outputs": [
        {
          "output_type": "stream",
          "name": "stdout",
          "text": [
            "1456\n",
            "837\n",
            "922\n"
          ]
        }
      ]
    },
    {
      "cell_type": "code",
      "source": [
        "x_train_1=[]\n",
        "y_train_1=[]\n",
        "c1=0\n",
        "c2=0\n",
        "c3=0\n",
        "x1=(cnt1-cnt0)/(cnt1)\n",
        "x1=x1*(-100)\n",
        "x1=int(x1)\n",
        "print(x1)\n",
        "x2=(cnt2-cnt0)/(cnt2)\n",
        "x2=x2*(-100)\n",
        "x2=int(x2)\n",
        "print(x2)\n",
        "for i in range(x_train.shape[0]):\n",
        "  if(y_train[i]==0):\n",
        "    x_train_1.append(x_train[i])\n",
        "    y_train_1.append(0)\n",
        "    c1+=1\n",
        "  elif(y_train[i]==1):\n",
        "    x_train_1.append(x_train[i])\n",
        "    y_train_1.append(1)\n",
        "    c2+=1\n",
        "  elif(y_train[i]==2 ):\n",
        "    x_train_1.append(x_train[i])\n",
        "    y_train_1.append(2)\n",
        "    c3=c3+1\n",
        "for i in range(x_train.shape[0]):\n",
        "  if(y_train[i]==1):\n",
        "    no=np.random.randint(100)\n",
        "    if(no>=100-x1):\n",
        "      x_train_1.append(x_train[i])\n",
        "      y_train_1.append(1)\n",
        "      c2+=1\n",
        "  elif(y_train[i]==2 ):\n",
        "    no=np.random.randint(100)\n",
        "    if(no>=100-x2):\n",
        "      x_train_1.append(x_train[i])\n",
        "      y_train_1.append(2)\n",
        "      c3+=1\n",
        "\n",
        "y_train=[]\n",
        "y_train=y_train_1\n",
        "x_train=[]\n",
        "x_train=x_train_1\n",
        "x_train=np.array(x_train)\n",
        "y_train=np.array(y_train)\n",
        "print(c1)\n",
        "print(c2)\n",
        "print(c3)"
      ],
      "metadata": {
        "id": "PqOHcbhQcuo8",
        "colab": {
          "base_uri": "https://localhost:8080/"
        },
        "outputId": "74732459-b0b7-4739-e61f-2777bc21204f"
      },
      "execution_count": 95,
      "outputs": [
        {
          "output_type": "stream",
          "name": "stdout",
          "text": [
            "73\n",
            "57\n",
            "1456\n",
            "1440\n",
            "1426\n"
          ]
        }
      ]
    },
    {
      "cell_type": "code",
      "source": [
        "sklearn_weights=class_weight.compute_class_weight(class_weight='balanced',classes=np.unique(y_train),y=y_train)\n",
        "sklearn_weights=dict(zip(np.unique(y_train),sklearn_weights))\n",
        "sklearn_weights"
      ],
      "metadata": {
        "id": "EYzwuCcAbDKT",
        "colab": {
          "base_uri": "https://localhost:8080/"
        },
        "outputId": "8192396a-ac1a-4c46-a0c3-8a7f43bf4317"
      },
      "execution_count": 96,
      "outputs": [
        {
          "output_type": "execute_result",
          "data": {
            "text/plain": [
              "{0: 0.9894688644688645, 1: 1.0004629629629629, 2: 1.0102851799906498}"
            ]
          },
          "metadata": {},
          "execution_count": 96
        }
      ]
    },
    {
      "cell_type": "code",
      "source": [
        "\n",
        "# model = Sequential()\n",
        "# model.add(LSTM(200, activation='relu', return_sequences=True, input_shape=( t,150,)))\n",
        "# model.add(LSTM(100, activation='relu', return_sequences=True))\n",
        "# model.add(LSTM(50, activation='relu', return_sequences=True))\n",
        "# model.add(LSTM(25, activation='relu'))\n",
        "# model.add(Dense(20, activation='relu'))\n",
        "# model.add(Dense(10, activation='relu'))\n",
        "# model.add(Dense(3))\n",
        "# model.compile(optimizer='SGD', loss='sparse_categorical_crossentropy',metrics=['accuracy'])\n",
        "# history = model.fit(x_train, y_train, epochs=10, validation_split=0.2, verbose=1)\n",
        "# test_output = model.predict(x_test, verbose=1)\n",
        "# # history = model.fit(X, Y, epochs=1000, validation_split=0.2, verbose=1)\n",
        "# # test_output = model.predict(x=, verbose=0)\n",
        "# # print(test_output)"
      ],
      "metadata": {
        "id": "rhgsSos1KIbA"
      },
      "execution_count": 97,
      "outputs": []
    },
    {
      "cell_type": "code",
      "source": [
        "# sklearn_weights={0:1738,1:2348,2:2362}\n",
        "model = Sequential()\n",
        "model.add(LSTM(200, activation='relu', return_sequences=True, input_shape=( t,150,)))\n",
        "model.add(LSTM(400, activation='relu', return_sequences=True))\n",
        "model.add(LSTM(800, activation='relu', return_sequences=True))\n",
        "model.add(LSTM(150, activation='relu'))\n",
        "model.add(Dense(100, activation='relu'))\n",
        "model.add(Dense(64, activation='relu'))\n",
        "model.add(Dense(10, activation='relu'))\n",
        "model.add(Dense(3,activation='sigmoid'))\n",
        "optimi=keras.optimizers.Adam()\n",
        "model.compile(optimizer=optimi, loss='sparse_categorical_crossentropy',metrics=['accuracy',get_f1])\n",
        "\n",
        "# history = model.fit(x_train, y_train, epochs=30, validation_split=0.2, verbose=1)\n",
        "history = model.fit(x_train, y_train, epochs=25, validation_split=0.2, verbose=1,class_weight=sklearn_weights)\n",
        "test_output = model.predict(x_test, verbose=1)\n"
      ],
      "metadata": {
        "id": "lwHPGS2iXMXc",
        "colab": {
          "base_uri": "https://localhost:8080/"
        },
        "outputId": "60a1b931-0ac5-4c0b-b04a-4877ff2f4f22"
      },
      "execution_count": 98,
      "outputs": [
        {
          "output_type": "stream",
          "name": "stderr",
          "text": [
            "WARNING:tensorflow:Layer lstm_16 will not use cuDNN kernels since it doesn't meet the criteria. It will use a generic GPU kernel as fallback when running on GPU.\n",
            "WARNING:tensorflow:Layer lstm_17 will not use cuDNN kernels since it doesn't meet the criteria. It will use a generic GPU kernel as fallback when running on GPU.\n",
            "WARNING:tensorflow:Layer lstm_18 will not use cuDNN kernels since it doesn't meet the criteria. It will use a generic GPU kernel as fallback when running on GPU.\n",
            "WARNING:tensorflow:Layer lstm_19 will not use cuDNN kernels since it doesn't meet the criteria. It will use a generic GPU kernel as fallback when running on GPU.\n"
          ]
        },
        {
          "output_type": "stream",
          "name": "stdout",
          "text": [
            "Epoch 1/25\n",
            "109/109 [==============================] - 18s 135ms/step - loss: 1.0698 - accuracy: 0.4145 - get_f1: 1.1071 - val_loss: 1.0803 - val_accuracy: 0.1699 - val_get_f1: 1.6795\n",
            "Epoch 2/25\n",
            "109/109 [==============================] - 16s 151ms/step - loss: 0.9146 - accuracy: 0.5221 - get_f1: 1.1035 - val_loss: 0.8831 - val_accuracy: 0.4832 - val_get_f1: 1.6924\n",
            "Epoch 3/25\n",
            "109/109 [==============================] - 14s 127ms/step - loss: 0.7666 - accuracy: 0.5950 - get_f1: 1.1142 - val_loss: 0.5918 - val_accuracy: 0.6197 - val_get_f1: 1.5615\n",
            "Epoch 4/25\n",
            "109/109 [==============================] - 14s 127ms/step - loss: 0.6867 - accuracy: 0.6523 - get_f1: 1.0870 - val_loss: 0.3888 - val_accuracy: 0.7191 - val_get_f1: 1.6111\n",
            "Epoch 5/25\n",
            "109/109 [==============================] - 14s 128ms/step - loss: 0.6000 - accuracy: 0.6835 - get_f1: 1.0401 - val_loss: 0.4468 - val_accuracy: 0.7087 - val_get_f1: 1.5877\n",
            "Epoch 6/25\n",
            "109/109 [==============================] - 15s 142ms/step - loss: 0.5095 - accuracy: 0.6835 - get_f1: 0.9774 - val_loss: 0.5975 - val_accuracy: 0.6717 - val_get_f1: 1.5651\n",
            "Epoch 7/25\n",
            "109/109 [==============================] - 14s 125ms/step - loss: 0.4722 - accuracy: 0.7483 - get_f1: 1.0027 - val_loss: 0.4185 - val_accuracy: 0.7642 - val_get_f1: 1.5638\n",
            "Epoch 8/25\n",
            "109/109 [==============================] - 14s 129ms/step - loss: 0.3490 - accuracy: 0.7943 - get_f1: 0.9648 - val_loss: 0.2938 - val_accuracy: 0.8127 - val_get_f1: 1.5199\n",
            "Epoch 9/25\n",
            "109/109 [==============================] - 14s 131ms/step - loss: 0.2847 - accuracy: 0.7640 - get_f1: 0.9274 - val_loss: 0.0991 - val_accuracy: 0.8173 - val_get_f1: 1.4418\n",
            "Epoch 10/25\n",
            "109/109 [==============================] - 16s 144ms/step - loss: 0.2243 - accuracy: 0.8363 - get_f1: 0.8974 - val_loss: 0.1750 - val_accuracy: 0.8786 - val_get_f1: 1.3933\n",
            "Epoch 11/25\n",
            "109/109 [==============================] - 14s 125ms/step - loss: 0.1679 - accuracy: 0.8073 - get_f1: 0.8551 - val_loss: 0.0812 - val_accuracy: 0.7503 - val_get_f1: 1.4226\n",
            "Epoch 12/25\n",
            "109/109 [==============================] - 14s 125ms/step - loss: 0.1122 - accuracy: 0.7952 - get_f1: 0.8107 - val_loss: 0.0506 - val_accuracy: 0.6116 - val_get_f1: 1.3491\n",
            "Epoch 13/25\n",
            "109/109 [==============================] - 15s 135ms/step - loss: 0.0826 - accuracy: 0.8042 - get_f1: 0.8684 - val_loss: 0.1863 - val_accuracy: 0.5225 - val_get_f1: 1.6167\n",
            "Epoch 14/25\n",
            "109/109 [==============================] - 16s 149ms/step - loss: 0.0812 - accuracy: 0.8149 - get_f1: 0.8426 - val_loss: 0.0282 - val_accuracy: 0.8069 - val_get_f1: 1.3639\n",
            "Epoch 15/25\n",
            "109/109 [==============================] - 16s 144ms/step - loss: 0.0640 - accuracy: 0.8027 - get_f1: 0.7981 - val_loss: 0.1087 - val_accuracy: 0.7861 - val_get_f1: 1.4511\n",
            "Epoch 16/25\n",
            "109/109 [==============================] - 14s 126ms/step - loss: 0.0542 - accuracy: 0.8415 - get_f1: 0.7902 - val_loss: 0.0522 - val_accuracy: 0.7942 - val_get_f1: 1.3755\n",
            "Epoch 17/25\n",
            "109/109 [==============================] - 16s 145ms/step - loss: 0.0632 - accuracy: 0.7891 - get_f1: 0.8020 - val_loss: 0.1908 - val_accuracy: 0.8231 - val_get_f1: 1.4092\n",
            "Epoch 18/25\n",
            "109/109 [==============================] - 14s 127ms/step - loss: 0.2834 - accuracy: 0.7544 - get_f1: 0.8289 - val_loss: 0.1104 - val_accuracy: 0.5503 - val_get_f1: 1.3409\n",
            "Epoch 19/25\n",
            "109/109 [==============================] - 14s 125ms/step - loss: 1.0389 - accuracy: 0.6517 - get_f1: 0.8979 - val_loss: 0.5545 - val_accuracy: 0.7121 - val_get_f1: 1.4923\n",
            "Epoch 20/25\n",
            "109/109 [==============================] - 14s 130ms/step - loss: 0.3495 - accuracy: 0.6847 - get_f1: 0.8835 - val_loss: 18.7676 - val_accuracy: 0.5572 - val_get_f1: 1.4305\n",
            "Epoch 21/25\n",
            "109/109 [==============================] - 16s 143ms/step - loss: 13.2068 - accuracy: 0.6185 - get_f1: 0.7791 - val_loss: 0.7537 - val_accuracy: 0.4035 - val_get_f1: 1.2122\n",
            "Epoch 22/25\n",
            "109/109 [==============================] - 14s 125ms/step - loss: 0.5484 - accuracy: 0.6347 - get_f1: 0.7962 - val_loss: 0.5768 - val_accuracy: 0.7133 - val_get_f1: 1.3367\n",
            "Epoch 23/25\n",
            "109/109 [==============================] - 14s 124ms/step - loss: 0.9412 - accuracy: 0.7333 - get_f1: 0.6117 - val_loss: 0.6162 - val_accuracy: 0.5191 - val_get_f1: 1.4418\n",
            "Epoch 24/25\n",
            "109/109 [==============================] - 13s 123ms/step - loss: 0.1473 - accuracy: 0.7602 - get_f1: 0.5131 - val_loss: 0.0787 - val_accuracy: 0.6879 - val_get_f1: 0.9518\n",
            "Epoch 25/25\n",
            "109/109 [==============================] - 15s 138ms/step - loss: 0.5659 - accuracy: 0.8071 - get_f1: 0.5036 - val_loss: 0.0345 - val_accuracy: 0.5884 - val_get_f1: 0.9577\n",
            "26/26 [==============================] - 1s 12ms/step\n"
          ]
        }
      ]
    },
    {
      "cell_type": "code",
      "source": [
        "test_output_1=np.array([np.argmax(i)  for i in test_output])\n",
        "from sklearn.metrics import confusion_matrix,accuracy_score\n",
        "print(confusion_matrix(y_test,test_output_1))\n",
        "test_output=pd.DataFrame(test_output)\n",
        "print(accuracy_score(y_test,test_output_1))\n"
      ],
      "metadata": {
        "id": "Q_hmR6MK_Bq5",
        "colab": {
          "base_uri": "https://localhost:8080/"
        },
        "outputId": "e240d24e-2b2c-4019-8d56-bcfaad9fb15b"
      },
      "execution_count": 99,
      "outputs": [
        {
          "output_type": "stream",
          "name": "stdout",
          "text": [
            "[[311  30  26]\n",
            " [ 79 138   1]\n",
            " [181   4  34]]\n",
            "0.6007462686567164\n"
          ]
        }
      ]
    },
    {
      "cell_type": "code",
      "source": [
        "print(get_f1(y_test.astype('float32'), test_output_1.astype('float32')))"
      ],
      "metadata": {
        "id": "ZsHojwC3G8gQ",
        "colab": {
          "base_uri": "https://localhost:8080/"
        },
        "outputId": "63f752a5-03ad-47c6-b6c6-0d4315ba7526"
      },
      "execution_count": 100,
      "outputs": [
        {
          "output_type": "stream",
          "name": "stdout",
          "text": [
            "tf.Tensor(0.5283582, shape=(), dtype=float32)\n"
          ]
        }
      ]
    },
    {
      "cell_type": "code",
      "source": [
        "x_train_reshaped = x_train.reshape(x_train.shape[0], -1)\n",
        "x_test_reshaped = x_test.reshape(x_test.shape[0], -1)\n",
        "savetxt('arrxtrain.csv', x_train_reshaped, delimiter=',')\n",
        "savetxt('arrytrain.csv', y_train, delimiter=',')\n",
        "savetxt('arrxtest.csv', x_test_reshaped, delimiter=',')\n",
        "savetxt('arrytest.csv', y_test, delimiter=',')"
      ],
      "metadata": {
        "id": "oxhtZHtkBWOe"
      },
      "execution_count": 101,
      "outputs": []
    }
  ]
}