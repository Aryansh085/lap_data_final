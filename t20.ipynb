{
  "nbformat": 4,
  "nbformat_minor": 0,
  "metadata": {
    "colab": {
      "provenance": [],
      "include_colab_link": true
    },
    "kernelspec": {
      "name": "python3",
      "display_name": "Python 3"
    },
    "language_info": {
      "name": "python"
    },
    "accelerator": "GPU",
    "gpuClass": "standard"
  },
  "cells": [
    {
      "cell_type": "markdown",
      "metadata": {
        "id": "view-in-github",
        "colab_type": "text"
      },
      "source": [
        "<a href=\"https://colab.research.google.com/github/Aryansh085/lap_data_final/blob/main/t20.ipynb\" target=\"_parent\"><img src=\"https://colab.research.google.com/assets/colab-badge.svg\" alt=\"Open In Colab\"/></a>"
      ]
    },
    {
      "cell_type": "code",
      "source": [
        "import numpy as np\n",
        "import tensorflow as tf\n",
        "from tensorflow.keras import losses as lo_ss\n",
        "from tensorflow.keras.models import Sequential\n",
        "from tensorflow.keras.layers import LSTM\n",
        "from tensorflow.keras.layers import Dense, Dropout\n",
        "import string\n",
        "import pandas as pd\n",
        "from matplotlib import pyplot as plt\n",
        "from sklearn.preprocessing import StandardScaler\n",
        "import seaborn as sns\n",
        "from sklearn import model_selection\n",
        "from sklearn.datasets import make_classification\n",
        "from sklearn.utils import class_weight\n",
        "from sklearn.metrics import classification_report , roc_auc_score\n",
        "import keras \n",
        "import keras.backend as K\n",
        "from google.colab import drive\n",
        "from numpy import savetxt\n",
        "import os"
      ],
      "metadata": {
        "id": "V1kLUX7gJ3N_"
      },
      "execution_count": 102,
      "outputs": []
    },
    {
      "cell_type": "code",
      "source": [
        "drive.mount('/content/gdrive')\n"
      ],
      "metadata": {
        "colab": {
          "base_uri": "https://localhost:8080/"
        },
        "id": "HXmXAIAJArT2",
        "outputId": "7ab0f461-564d-40fc-d578-b5b88ef212af"
      },
      "execution_count": 103,
      "outputs": [
        {
          "output_type": "stream",
          "name": "stdout",
          "text": [
            "Drive already mounted at /content/gdrive; to attempt to forcibly remount, call drive.mount(\"/content/gdrive\", force_remount=True).\n"
          ]
        }
      ]
    },
    {
      "cell_type": "code",
      "source": [
        "t=20"
      ],
      "metadata": {
        "id": "uLTug-YJDW8D"
      },
      "execution_count": 104,
      "outputs": []
    },
    {
      "cell_type": "code",
      "source": [
        "os.chdir('/content/gdrive/MyDrive/laplstm/final/t'+str(t))"
      ],
      "metadata": {
        "id": "ubPkwGQnA8Wx"
      },
      "execution_count": 105,
      "outputs": []
    },
    {
      "cell_type": "code",
      "source": [
        "import os\n",
        "github_raw_link=\"https://raw.githubusercontent.com/Aryansh085/LAP/main/858417d1-7d54-4115-a01b-fdda5e03ada3_testing_combined_rows4035_disc_1_0p9_MULTIPLY_preproces_155cols.csv\"\n",
        "df1=pd.read_csv((github_raw_link),header = None)\n",
        "dftemp=np.array(df1)\n",
        "dftemp.shape\n",
        "dftemp2=dftemp[:,5:]\n",
        "dftemp2=np.array(dftemp2)\n",
        "print(dftemp2.shape)"
      ],
      "metadata": {
        "id": "3UWvhrydJ8hA",
        "colab": {
          "base_uri": "https://localhost:8080/"
        },
        "outputId": "c497b3cb-e41f-439a-cd45-ff27f7f6c293"
      },
      "execution_count": 106,
      "outputs": [
        {
          "output_type": "stream",
          "name": "stdout",
          "text": [
            "(4035, 150)\n"
          ]
        }
      ]
    },
    {
      "cell_type": "code",
      "source": [
        "# dftemp2\n",
        "dftemp2.shape\n",
        "# dftemp2=pd.DataFrame(dftemp2)\n",
        "# dftemp2.head()"
      ],
      "metadata": {
        "id": "h00YSxPn8rUk",
        "colab": {
          "base_uri": "https://localhost:8080/"
        },
        "outputId": "e9d38bfa-90ee-4a10-ae63-ed11aa862ccd"
      },
      "execution_count": 107,
      "outputs": [
        {
          "output_type": "execute_result",
          "data": {
            "text/plain": [
              "(4035, 150)"
            ]
          },
          "metadata": {},
          "execution_count": 107
        }
      ]
    },
    {
      "cell_type": "markdown",
      "source": [
        "--> muliply the reward of that instance into the loss of that instance to give weight"
      ],
      "metadata": {
        "id": "pPfqIsthYP2X"
      }
    },
    {
      "cell_type": "code",
      "source": [
        "from sklearn.preprocessing import StandardScaler\n",
        "\n",
        "slr=StandardScaler()\n",
        "slr.fit(dftemp2)\n",
        "dftemp2 = slr.transform(dftemp2)"
      ],
      "metadata": {
        "id": "kWYAqDfnO_1i"
      },
      "execution_count": 108,
      "outputs": []
    },
    {
      "cell_type": "code",
      "source": [
        "# f1-score function\n",
        "def get_f1(y_true, y_pred): #taken from old keras source code\n",
        "    true_positives = K.sum(K.round(K.clip(y_true * y_pred, 0, 1)))\n",
        "    possible_positives = K.sum(K.round(K.clip(y_true, 0, 1)))\n",
        "    predicted_positives = K.sum(K.round(K.clip(y_pred, 0, 1)))\n",
        "    precision = true_positives / (predicted_positives + K.epsilon())\n",
        "    recall = true_positives / (possible_positives + K.epsilon())\n",
        "    f1_val = 2*(precision*recall)/(precision+recall+K.epsilon())\n",
        "    return f1_val\n",
        "    "
      ],
      "metadata": {
        "id": "4i-6LDL58GyW"
      },
      "execution_count": 109,
      "outputs": []
    },
    {
      "cell_type": "code",
      "source": [],
      "metadata": {
        "id": "83zizsyvKHzh"
      },
      "execution_count": 109,
      "outputs": []
    },
    {
      "cell_type": "code",
      "source": [
        "y=np.array(dftemp[:,0])\n",
        "print(y)\n",
        "y_new=y[t:]\n",
        "y_new.shape\n"
      ],
      "metadata": {
        "id": "XmXnkjOiKIGQ",
        "colab": {
          "base_uri": "https://localhost:8080/"
        },
        "outputId": "2b3512d4-bb7d-4eab-881b-67c7b818cbcb"
      },
      "execution_count": 110,
      "outputs": [
        {
          "output_type": "stream",
          "name": "stdout",
          "text": [
            "[2. 0. 0. ... 0. 2. 2.]\n"
          ]
        },
        {
          "output_type": "execute_result",
          "data": {
            "text/plain": [
              "(4015,)"
            ]
          },
          "metadata": {},
          "execution_count": 110
        }
      ]
    },
    {
      "cell_type": "code",
      "source": [
        "x=np.array(dftemp2)\n",
        "# print(x)\n",
        "# print(x.shape)\n",
        "x.shape,y_new.shape"
      ],
      "metadata": {
        "id": "3JPzLQQmKhZk",
        "colab": {
          "base_uri": "https://localhost:8080/"
        },
        "outputId": "2254eac0-6cef-41f6-981c-b88f4dfc6eb9"
      },
      "execution_count": 111,
      "outputs": [
        {
          "output_type": "execute_result",
          "data": {
            "text/plain": [
              "((4035, 150), (4015,))"
            ]
          },
          "metadata": {},
          "execution_count": 111
        }
      ]
    },
    {
      "cell_type": "code",
      "source": [
        "x_3d=[]\n",
        "for i in range(4035-t):\n",
        "  tmp=[]\n",
        "  for j in range(t):\n",
        "    tmp.append(x[j+i])\n",
        "  x_3d.append(tmp)\n",
        "x_3d= np.array(x_3d)\n",
        "x_3d.shape"
      ],
      "metadata": {
        "id": "hdDY6fhENZ2-",
        "colab": {
          "base_uri": "https://localhost:8080/"
        },
        "outputId": "1a707d68-aa12-4d8f-dfe0-43a6e47b9252"
      },
      "execution_count": 112,
      "outputs": [
        {
          "output_type": "execute_result",
          "data": {
            "text/plain": [
              "(4015, 20, 150)"
            ]
          },
          "metadata": {},
          "execution_count": 112
        }
      ]
    },
    {
      "cell_type": "code",
      "source": [
        "train_test_ratio=0.8\n",
        "print(x_3d.shape[0])\n",
        "x_train=[]\n",
        "y_train=[]\n",
        "x_test=[]\n",
        "y_test=[]\n",
        "for i in range(x_3d.shape[0]):\n",
        "  l=[]\n",
        "  ly=[]\n",
        "  no=np.random.randint(100)\n",
        "  if(no<80):\n",
        "    l=x_3d[i]\n",
        "    ly=y_new[i]\n",
        "    x_train.append(l)\n",
        "    y_train.append(ly)\n",
        "  else:\n",
        "    l=x_3d[i]\n",
        "    ly=y_new[i]\n",
        "    x_test.append(l)\n",
        "    y_test.append(ly)\n",
        "\n",
        "\n",
        "x_train=np.array(x_train)\n",
        "y_train=np.array(y_train)\n",
        "x_test=np.array(x_test)\n",
        "y_test=np.array(y_test)\n",
        "x_train.shape,y_train.shape,x_test.shape,y_test.shape"
      ],
      "metadata": {
        "id": "AwnZ3Mh1Khi8",
        "colab": {
          "base_uri": "https://localhost:8080/"
        },
        "outputId": "ba854246-4d07-4a81-e846-080799b4c941"
      },
      "execution_count": 113,
      "outputs": [
        {
          "output_type": "stream",
          "name": "stdout",
          "text": [
            "4015\n"
          ]
        },
        {
          "output_type": "execute_result",
          "data": {
            "text/plain": [
              "((3158, 20, 150), (3158,), (857, 20, 150), (857,))"
            ]
          },
          "metadata": {},
          "execution_count": 113
        }
      ]
    },
    {
      "cell_type": "code",
      "source": [
        "cnt0=0\n",
        "cnt1=0\n",
        "cnt2=0\n",
        "for i in range(x_train.shape[0]):\n",
        "  if(y_train[i]==0):\n",
        "    cnt0+=1\n",
        "  elif(y_train[i]==1):\n",
        "    cnt1+=1\n",
        "  elif(y_train[i]==2):\n",
        "    cnt2+=1\n",
        "print(cnt0)\n",
        "print(cnt1)\n",
        "print(cnt2)  "
      ],
      "metadata": {
        "id": "xlijLVYecmcq",
        "colab": {
          "base_uri": "https://localhost:8080/"
        },
        "outputId": "7d8befc8-3077-4fef-bd83-5187ff93136f"
      },
      "execution_count": 114,
      "outputs": [
        {
          "output_type": "stream",
          "name": "stdout",
          "text": [
            "1432\n",
            "829\n",
            "897\n"
          ]
        }
      ]
    },
    {
      "cell_type": "code",
      "source": [
        "x_train_1=[]\n",
        "y_train_1=[]\n",
        "c1=0\n",
        "c2=0\n",
        "c3=0\n",
        "x1=(cnt1-cnt0)/(cnt1)\n",
        "x1=x1*(-100)\n",
        "x1=int(x1)\n",
        "print(x1)\n",
        "x2=(cnt2-cnt0)/(cnt2)\n",
        "x2=x2*(-100)\n",
        "x2=int(x2)\n",
        "print(x2)\n",
        "for i in range(x_train.shape[0]):\n",
        "  if(y_train[i]==0):\n",
        "    x_train_1.append(x_train[i])\n",
        "    y_train_1.append(0)\n",
        "    c1+=1\n",
        "  elif(y_train[i]==1):\n",
        "    x_train_1.append(x_train[i])\n",
        "    y_train_1.append(1)\n",
        "    c2+=1\n",
        "  elif(y_train[i]==2 ):\n",
        "    x_train_1.append(x_train[i])\n",
        "    y_train_1.append(2)\n",
        "    c3=c3+1\n",
        "for i in range(x_train.shape[0]):\n",
        "  if(y_train[i]==1):\n",
        "    no=np.random.randint(100)\n",
        "    if(no>=100-x1):\n",
        "      x_train_1.append(x_train[i])\n",
        "      y_train_1.append(1)\n",
        "      c2+=1\n",
        "  elif(y_train[i]==2 ):\n",
        "    no=np.random.randint(100)\n",
        "    if(no>=100-x2):\n",
        "      x_train_1.append(x_train[i])\n",
        "      y_train_1.append(2)\n",
        "      c3+=1\n",
        "\n",
        "y_train=[]\n",
        "y_train=y_train_1\n",
        "x_train=[]\n",
        "x_train=x_train_1\n",
        "x_train=np.array(x_train)\n",
        "y_train=np.array(y_train)\n",
        "print(c1)\n",
        "print(c2)\n",
        "print(c3)"
      ],
      "metadata": {
        "id": "PqOHcbhQcuo8",
        "colab": {
          "base_uri": "https://localhost:8080/"
        },
        "outputId": "5091eacd-7dfa-41f3-a4c0-fb421d652f98"
      },
      "execution_count": 115,
      "outputs": [
        {
          "output_type": "stream",
          "name": "stdout",
          "text": [
            "72\n",
            "59\n",
            "1432\n",
            "1414\n",
            "1424\n"
          ]
        }
      ]
    },
    {
      "cell_type": "code",
      "source": [
        "sklearn_weights=class_weight.compute_class_weight(class_weight='balanced',classes=np.unique(y_train),y=y_train)\n",
        "sklearn_weights=dict(zip(np.unique(y_train),sklearn_weights))\n",
        "sklearn_weights"
      ],
      "metadata": {
        "id": "EYzwuCcAbDKT",
        "colab": {
          "base_uri": "https://localhost:8080/"
        },
        "outputId": "ae1fd5cf-d70f-47a8-d4ec-d1f533cc273b"
      },
      "execution_count": 116,
      "outputs": [
        {
          "output_type": "execute_result",
          "data": {
            "text/plain": [
              "{0: 0.9939478584729982, 1: 1.0066006600660067, 2: 0.9995318352059925}"
            ]
          },
          "metadata": {},
          "execution_count": 116
        }
      ]
    },
    {
      "cell_type": "code",
      "source": [
        "\n",
        "# model = Sequential()\n",
        "# model.add(LSTM(200, activation='relu', return_sequences=True, input_shape=( t,150,)))\n",
        "# model.add(LSTM(100, activation='relu', return_sequences=True))\n",
        "# model.add(LSTM(50, activation='relu', return_sequences=True))\n",
        "# model.add(LSTM(25, activation='relu'))\n",
        "# model.add(Dense(20, activation='relu'))\n",
        "# model.add(Dense(10, activation='relu'))\n",
        "# model.add(Dense(3))\n",
        "# model.compile(optimizer='SGD', loss='sparse_categorical_crossentropy',metrics=['accuracy'])\n",
        "# history = model.fit(x_train, y_train, epochs=10, validation_split=0.2, verbose=1)\n",
        "# test_output = model.predict(x_test, verbose=1)\n",
        "# # history = model.fit(X, Y, epochs=1000, validation_split=0.2, verbose=1)\n",
        "# # test_output = model.predict(x=, verbose=0)\n",
        "# # print(test_output)"
      ],
      "metadata": {
        "id": "rhgsSos1KIbA"
      },
      "execution_count": 117,
      "outputs": []
    },
    {
      "cell_type": "code",
      "source": [
        "# sklearn_weights={0:1738,1:2348,2:2362}\n",
        "model = Sequential()\n",
        "model.add(LSTM(200, activation='relu', return_sequences=True, input_shape=( t,150,)))\n",
        "model.add(LSTM(400, activation='relu', return_sequences=True))\n",
        "model.add(LSTM(800, activation='relu', return_sequences=True))\n",
        "model.add(LSTM(150, activation='relu'))\n",
        "model.add(Dense(100, activation='relu'))\n",
        "model.add(Dense(64, activation='relu'))\n",
        "model.add(Dense(10, activation='relu'))\n",
        "model.add(Dense(3,activation='sigmoid'))\n",
        "optimi=keras.optimizers.Adam()\n",
        "model.compile(optimizer=optimi, loss='sparse_categorical_crossentropy',metrics=['accuracy',get_f1])\n",
        "\n",
        "# history = model.fit(x_train, y_train, epochs=30, validation_split=0.2, verbose=1)\n",
        "history = model.fit(x_train, y_train, epochs=25, validation_split=0.2, verbose=1,class_weight=sklearn_weights)\n",
        "test_output = model.predict(x_test, verbose=1)\n"
      ],
      "metadata": {
        "id": "lwHPGS2iXMXc",
        "colab": {
          "base_uri": "https://localhost:8080/"
        },
        "outputId": "d94d2b4a-c40f-4be1-f91c-749fa1578da5"
      },
      "execution_count": 118,
      "outputs": [
        {
          "output_type": "stream",
          "name": "stderr",
          "text": [
            "WARNING:tensorflow:Layer lstm_20 will not use cuDNN kernels since it doesn't meet the criteria. It will use a generic GPU kernel as fallback when running on GPU.\n",
            "WARNING:tensorflow:Layer lstm_21 will not use cuDNN kernels since it doesn't meet the criteria. It will use a generic GPU kernel as fallback when running on GPU.\n",
            "WARNING:tensorflow:Layer lstm_22 will not use cuDNN kernels since it doesn't meet the criteria. It will use a generic GPU kernel as fallback when running on GPU.\n",
            "WARNING:tensorflow:Layer lstm_23 will not use cuDNN kernels since it doesn't meet the criteria. It will use a generic GPU kernel as fallback when running on GPU.\n"
          ]
        },
        {
          "output_type": "stream",
          "name": "stdout",
          "text": [
            "Epoch 1/25\n",
            "107/107 [==============================] - 24s 180ms/step - loss: 1.0939 - accuracy: 0.4160 - get_f1: 1.5058 - val_loss: 1.3101 - val_accuracy: 0.0000e+00 - val_get_f1: 2.0128\n",
            "Epoch 2/25\n",
            "107/107 [==============================] - 16s 152ms/step - loss: 1.0739 - accuracy: 0.4271 - get_f1: 1.4369 - val_loss: 1.1849 - val_accuracy: 0.0000e+00 - val_get_f1: 2.0128\n",
            "Epoch 3/25\n",
            "107/107 [==============================] - 16s 152ms/step - loss: 1.0228 - accuracy: 0.4552 - get_f1: 1.3807 - val_loss: 1.3344 - val_accuracy: 0.0585 - val_get_f1: 1.6868\n",
            "Epoch 4/25\n",
            "107/107 [==============================] - 18s 172ms/step - loss: 1.1764 - accuracy: 0.4587 - get_f1: 1.5046 - val_loss: 1.1154 - val_accuracy: 0.1850 - val_get_f1: 2.9889\n",
            "Epoch 5/25\n",
            "107/107 [==============================] - 17s 156ms/step - loss: 1.0580 - accuracy: 0.4388 - get_f1: 1.4733 - val_loss: 1.2225 - val_accuracy: 0.1628 - val_get_f1: 1.7788\n",
            "Epoch 6/25\n",
            "107/107 [==============================] - 16s 154ms/step - loss: 1.0646 - accuracy: 0.5176 - get_f1: 1.2707 - val_loss: 1.3189 - val_accuracy: 0.0972 - val_get_f1: 1.3919\n",
            "Epoch 7/25\n",
            "107/107 [==============================] - 18s 169ms/step - loss: 4.5565 - accuracy: 0.4485 - get_f1: 1.3765 - val_loss: 1.0133 - val_accuracy: 0.3759 - val_get_f1: 1.5242\n",
            "Epoch 8/25\n",
            "107/107 [==============================] - 19s 174ms/step - loss: 0.8990 - accuracy: 0.5512 - get_f1: 0.9824 - val_loss: 0.9383 - val_accuracy: 0.5293 - val_get_f1: 1.7749\n",
            "Epoch 9/25\n",
            "107/107 [==============================] - 18s 170ms/step - loss: 0.8520 - accuracy: 0.5340 - get_f1: 0.9196 - val_loss: 0.7195 - val_accuracy: 0.5504 - val_get_f1: 1.2437\n",
            "Epoch 10/25\n",
            "107/107 [==============================] - 19s 173ms/step - loss: 0.7959 - accuracy: 0.5972 - get_f1: 0.8762 - val_loss: 0.7790 - val_accuracy: 0.6686 - val_get_f1: 1.3682\n",
            "Epoch 11/25\n",
            "107/107 [==============================] - 16s 150ms/step - loss: 0.7417 - accuracy: 0.6440 - get_f1: 0.8766 - val_loss: 0.6110 - val_accuracy: 0.8806 - val_get_f1: 1.2475\n",
            "Epoch 12/25\n",
            "107/107 [==============================] - 16s 152ms/step - loss: 0.7479 - accuracy: 0.6806 - get_f1: 0.8588 - val_loss: 0.8471 - val_accuracy: 0.6616 - val_get_f1: 1.2358\n",
            "Epoch 13/25\n",
            "107/107 [==============================] - 19s 173ms/step - loss: 0.7040 - accuracy: 0.6903 - get_f1: 0.9372 - val_loss: 0.5550 - val_accuracy: 0.8607 - val_get_f1: 1.2897\n",
            "Epoch 14/25\n",
            "107/107 [==============================] - 16s 154ms/step - loss: 0.5859 - accuracy: 0.7456 - get_f1: 0.8929 - val_loss: 0.4176 - val_accuracy: 0.9192 - val_get_f1: 1.3189\n",
            "Epoch 15/25\n",
            "107/107 [==============================] - 17s 155ms/step - loss: 0.5312 - accuracy: 0.7769 - get_f1: 0.8513 - val_loss: 0.3418 - val_accuracy: 0.9274 - val_get_f1: 1.2158\n",
            "Epoch 16/25\n",
            "107/107 [==============================] - 18s 172ms/step - loss: 0.4653 - accuracy: 0.8162 - get_f1: 0.8911 - val_loss: 0.3624 - val_accuracy: 0.8653 - val_get_f1: 1.4991\n",
            "Epoch 17/25\n",
            "107/107 [==============================] - 17s 159ms/step - loss: 0.4503 - accuracy: 0.8156 - get_f1: 0.9956 - val_loss: 0.2954 - val_accuracy: 0.9052 - val_get_f1: 1.5069\n",
            "Epoch 18/25\n",
            "107/107 [==============================] - 16s 153ms/step - loss: 0.3667 - accuracy: 0.8551 - get_f1: 0.9773 - val_loss: 0.2246 - val_accuracy: 0.9473 - val_get_f1: 1.3878\n",
            "Epoch 19/25\n",
            "107/107 [==============================] - 19s 175ms/step - loss: 0.3257 - accuracy: 0.8694 - get_f1: 0.9752 - val_loss: 0.2469 - val_accuracy: 0.9426 - val_get_f1: 1.3205\n",
            "Epoch 20/25\n",
            "107/107 [==============================] - 17s 157ms/step - loss: 1.7471 - accuracy: 0.8220 - get_f1: 0.9892 - val_loss: 0.4667 - val_accuracy: 0.9309 - val_get_f1: 1.5610\n",
            "Epoch 21/25\n",
            "107/107 [==============================] - 20s 187ms/step - loss: 0.4831 - accuracy: 0.8191 - get_f1: 0.9826 - val_loss: 0.1993 - val_accuracy: 0.9508 - val_get_f1: 1.1817\n",
            "Epoch 22/25\n",
            "107/107 [==============================] - 18s 171ms/step - loss: 0.7528 - accuracy: 0.8460 - get_f1: 0.9213 - val_loss: 0.3431 - val_accuracy: 0.9450 - val_get_f1: 1.1774\n",
            "Epoch 23/25\n",
            "107/107 [==============================] - 16s 152ms/step - loss: 0.2877 - accuracy: 0.9049 - get_f1: 0.8120 - val_loss: 0.1796 - val_accuracy: 0.9520 - val_get_f1: 1.1166\n",
            "Epoch 24/25\n",
            "107/107 [==============================] - 16s 153ms/step - loss: 0.2113 - accuracy: 0.9268 - get_f1: 0.7965 - val_loss: 0.1090 - val_accuracy: 0.9778 - val_get_f1: 1.1092\n",
            "Epoch 25/25\n",
            "107/107 [==============================] - 18s 167ms/step - loss: 0.1711 - accuracy: 0.9423 - get_f1: 0.7865 - val_loss: 0.1785 - val_accuracy: 0.9473 - val_get_f1: 1.0643\n",
            "27/27 [==============================] - 1s 15ms/step\n"
          ]
        }
      ]
    },
    {
      "cell_type": "code",
      "source": [
        "test_output_1=np.array([np.argmax(i)  for i in test_output])\n",
        "from sklearn.metrics import confusion_matrix,accuracy_score\n",
        "print(confusion_matrix(y_test,test_output_1))\n",
        "test_output=pd.DataFrame(test_output)\n",
        "print(accuracy_score(y_test,test_output_1))\n"
      ],
      "metadata": {
        "id": "Q_hmR6MK_Bq5",
        "colab": {
          "base_uri": "https://localhost:8080/"
        },
        "outputId": "2f1732aa-34de-4adc-9f01-63ced9b5f58d"
      },
      "execution_count": 119,
      "outputs": [
        {
          "output_type": "stream",
          "name": "stdout",
          "text": [
            "[[283  43  65]\n",
            " [ 79 135   8]\n",
            " [ 64   3 177]]\n",
            "0.6942823803967327\n"
          ]
        }
      ]
    },
    {
      "cell_type": "code",
      "source": [
        "print(get_f1(y_test.astype('float32'), test_output_1.astype('float32')))"
      ],
      "metadata": {
        "id": "ZsHojwC3G8gQ",
        "colab": {
          "base_uri": "https://localhost:8080/"
        },
        "outputId": "144b1d59-2d6f-43db-81d7-1d596abc0dbc"
      },
      "execution_count": 120,
      "outputs": [
        {
          "output_type": "stream",
          "name": "stdout",
          "text": [
            "tf.Tensor(0.7201783, shape=(), dtype=float32)\n"
          ]
        }
      ]
    },
    {
      "cell_type": "code",
      "source": [
        "x_train_reshaped = x_train.reshape(x_train.shape[0], -1)\n",
        "x_test_reshaped = x_test.reshape(x_test.shape[0], -1)\n",
        "savetxt('arrxtrain.csv', x_train_reshaped, delimiter=',')\n",
        "savetxt('arrytrain.csv', y_train, delimiter=',')\n",
        "savetxt('arrxtest.csv', x_test_reshaped, delimiter=',')\n",
        "savetxt('arrytest.csv', y_test, delimiter=',')"
      ],
      "metadata": {
        "id": "oxhtZHtkBWOe"
      },
      "execution_count": 121,
      "outputs": []
    }
  ]
}