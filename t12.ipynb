{
  "nbformat": 4,
  "nbformat_minor": 0,
  "metadata": {
    "colab": {
      "provenance": [],
      "include_colab_link": true
    },
    "kernelspec": {
      "name": "python3",
      "display_name": "Python 3"
    },
    "language_info": {
      "name": "python"
    },
    "accelerator": "GPU",
    "gpuClass": "standard"
  },
  "cells": [
    {
      "cell_type": "markdown",
      "metadata": {
        "id": "view-in-github",
        "colab_type": "text"
      },
      "source": [
        "<a href=\"https://colab.research.google.com/github/Aryansh085/lap_data_final/blob/main/t12.ipynb\" target=\"_parent\"><img src=\"https://colab.research.google.com/assets/colab-badge.svg\" alt=\"Open In Colab\"/></a>"
      ]
    },
    {
      "cell_type": "code",
      "source": [
        "import numpy as np\n",
        "import tensorflow as tf\n",
        "from tensorflow.keras import losses as lo_ss\n",
        "from tensorflow.keras.models import Sequential\n",
        "from tensorflow.keras.layers import LSTM\n",
        "from tensorflow.keras.layers import Dense, Dropout\n",
        "import string\n",
        "import pandas as pd\n",
        "from matplotlib import pyplot as plt\n",
        "from sklearn.preprocessing import StandardScaler\n",
        "import seaborn as sns\n",
        "from sklearn import model_selection\n",
        "from sklearn.datasets import make_classification\n",
        "from sklearn.utils import class_weight\n",
        "from sklearn.metrics import classification_report , roc_auc_score\n",
        "import keras \n",
        "import keras.backend as K\n",
        "from google.colab import drive\n",
        "from numpy import savetxt\n",
        "import os"
      ],
      "metadata": {
        "id": "V1kLUX7gJ3N_"
      },
      "execution_count": 62,
      "outputs": []
    },
    {
      "cell_type": "code",
      "source": [
        "drive.mount('/content/gdrive')\n"
      ],
      "metadata": {
        "colab": {
          "base_uri": "https://localhost:8080/"
        },
        "id": "HXmXAIAJArT2",
        "outputId": "b9c32841-3299-4c49-b122-81234a426ed7"
      },
      "execution_count": 63,
      "outputs": [
        {
          "output_type": "stream",
          "name": "stdout",
          "text": [
            "Drive already mounted at /content/gdrive; to attempt to forcibly remount, call drive.mount(\"/content/gdrive\", force_remount=True).\n"
          ]
        }
      ]
    },
    {
      "cell_type": "code",
      "source": [
        "t=12"
      ],
      "metadata": {
        "id": "uLTug-YJDW8D"
      },
      "execution_count": 64,
      "outputs": []
    },
    {
      "cell_type": "code",
      "source": [
        "os.chdir('/content/gdrive/MyDrive/laplstm/final/t'+str(t))"
      ],
      "metadata": {
        "id": "ubPkwGQnA8Wx"
      },
      "execution_count": 65,
      "outputs": []
    },
    {
      "cell_type": "code",
      "source": [
        "import os\n",
        "github_raw_link=\"https://raw.githubusercontent.com/Aryansh085/LAP/main/858417d1-7d54-4115-a01b-fdda5e03ada3_testing_combined_rows4035_disc_1_0p9_MULTIPLY_preproces_155cols.csv\"\n",
        "df1=pd.read_csv((github_raw_link),header = None)\n",
        "dftemp=np.array(df1)\n",
        "dftemp.shape\n",
        "dftemp2=dftemp[:,5:]\n",
        "dftemp2=np.array(dftemp2)\n",
        "print(dftemp2.shape)"
      ],
      "metadata": {
        "id": "3UWvhrydJ8hA",
        "colab": {
          "base_uri": "https://localhost:8080/"
        },
        "outputId": "a6507e8b-10e6-4ff4-ac89-a51d8749e027"
      },
      "execution_count": 66,
      "outputs": [
        {
          "output_type": "stream",
          "name": "stdout",
          "text": [
            "(4035, 150)\n"
          ]
        }
      ]
    },
    {
      "cell_type": "code",
      "source": [
        "# dftemp2\n",
        "dftemp2.shape\n",
        "# dftemp2=pd.DataFrame(dftemp2)\n",
        "# dftemp2.head()"
      ],
      "metadata": {
        "id": "h00YSxPn8rUk",
        "colab": {
          "base_uri": "https://localhost:8080/"
        },
        "outputId": "d0db7a06-9d4d-4453-f4f7-1e43c4982033"
      },
      "execution_count": 67,
      "outputs": [
        {
          "output_type": "execute_result",
          "data": {
            "text/plain": [
              "(4035, 150)"
            ]
          },
          "metadata": {},
          "execution_count": 67
        }
      ]
    },
    {
      "cell_type": "markdown",
      "source": [
        "--> muliply the reward of that instance into the loss of that instance to give weight"
      ],
      "metadata": {
        "id": "pPfqIsthYP2X"
      }
    },
    {
      "cell_type": "code",
      "source": [
        "from sklearn.preprocessing import StandardScaler\n",
        "\n",
        "slr=StandardScaler()\n",
        "slr.fit(dftemp2)\n",
        "dftemp2 = slr.transform(dftemp2)"
      ],
      "metadata": {
        "id": "kWYAqDfnO_1i"
      },
      "execution_count": 68,
      "outputs": []
    },
    {
      "cell_type": "code",
      "source": [
        "# f1-score function\n",
        "def get_f1(y_true, y_pred): #taken from old keras source code\n",
        "    true_positives = K.sum(K.round(K.clip(y_true * y_pred, 0, 1)))\n",
        "    possible_positives = K.sum(K.round(K.clip(y_true, 0, 1)))\n",
        "    predicted_positives = K.sum(K.round(K.clip(y_pred, 0, 1)))\n",
        "    precision = true_positives / (predicted_positives + K.epsilon())\n",
        "    recall = true_positives / (possible_positives + K.epsilon())\n",
        "    f1_val = 2*(precision*recall)/(precision+recall+K.epsilon())\n",
        "    return f1_val\n",
        "    "
      ],
      "metadata": {
        "id": "4i-6LDL58GyW"
      },
      "execution_count": 69,
      "outputs": []
    },
    {
      "cell_type": "code",
      "source": [],
      "metadata": {
        "id": "83zizsyvKHzh"
      },
      "execution_count": 69,
      "outputs": []
    },
    {
      "cell_type": "code",
      "source": [
        "y=np.array(dftemp[:,0])\n",
        "print(y)\n",
        "y_new=y[t:]\n",
        "y_new.shape\n"
      ],
      "metadata": {
        "id": "XmXnkjOiKIGQ",
        "colab": {
          "base_uri": "https://localhost:8080/"
        },
        "outputId": "fca3ef41-e8a6-401a-f95b-0e52aa8ece1f"
      },
      "execution_count": 70,
      "outputs": [
        {
          "output_type": "stream",
          "name": "stdout",
          "text": [
            "[2. 0. 0. ... 0. 2. 2.]\n"
          ]
        },
        {
          "output_type": "execute_result",
          "data": {
            "text/plain": [
              "(4023,)"
            ]
          },
          "metadata": {},
          "execution_count": 70
        }
      ]
    },
    {
      "cell_type": "code",
      "source": [
        "x=np.array(dftemp2)\n",
        "# print(x)\n",
        "# print(x.shape)\n",
        "x.shape,y_new.shape"
      ],
      "metadata": {
        "id": "3JPzLQQmKhZk",
        "colab": {
          "base_uri": "https://localhost:8080/"
        },
        "outputId": "668fe457-b5fa-42a3-ac81-62d35f6d261c"
      },
      "execution_count": 71,
      "outputs": [
        {
          "output_type": "execute_result",
          "data": {
            "text/plain": [
              "((4035, 150), (4023,))"
            ]
          },
          "metadata": {},
          "execution_count": 71
        }
      ]
    },
    {
      "cell_type": "code",
      "source": [
        "x_3d=[]\n",
        "for i in range(4035-t):\n",
        "  tmp=[]\n",
        "  for j in range(t):\n",
        "    tmp.append(x[j+i])\n",
        "  x_3d.append(tmp)\n",
        "x_3d= np.array(x_3d)\n",
        "x_3d.shape"
      ],
      "metadata": {
        "id": "hdDY6fhENZ2-",
        "colab": {
          "base_uri": "https://localhost:8080/"
        },
        "outputId": "86a91b91-4ef8-4b2b-9963-16ba0885af8f"
      },
      "execution_count": 72,
      "outputs": [
        {
          "output_type": "execute_result",
          "data": {
            "text/plain": [
              "(4023, 12, 150)"
            ]
          },
          "metadata": {},
          "execution_count": 72
        }
      ]
    },
    {
      "cell_type": "code",
      "source": [
        "train_test_ratio=0.8\n",
        "print(x_3d.shape[0])\n",
        "x_train=[]\n",
        "y_train=[]\n",
        "x_test=[]\n",
        "y_test=[]\n",
        "for i in range(x_3d.shape[0]):\n",
        "  l=[]\n",
        "  ly=[]\n",
        "  no=np.random.randint(100)\n",
        "  if(no<80):\n",
        "    l=x_3d[i]\n",
        "    ly=y_new[i]\n",
        "    x_train.append(l)\n",
        "    y_train.append(ly)\n",
        "  else:\n",
        "    l=x_3d[i]\n",
        "    ly=y_new[i]\n",
        "    x_test.append(l)\n",
        "    y_test.append(ly)\n",
        "\n",
        "\n",
        "x_train=np.array(x_train)\n",
        "y_train=np.array(y_train)\n",
        "x_test=np.array(x_test)\n",
        "y_test=np.array(y_test)\n",
        "x_train.shape,y_train.shape,x_test.shape,y_test.shape"
      ],
      "metadata": {
        "id": "AwnZ3Mh1Khi8",
        "colab": {
          "base_uri": "https://localhost:8080/"
        },
        "outputId": "64b6ecda-99e9-49ac-aa9f-100a48337d1c"
      },
      "execution_count": 73,
      "outputs": [
        {
          "output_type": "stream",
          "name": "stdout",
          "text": [
            "4023\n"
          ]
        },
        {
          "output_type": "execute_result",
          "data": {
            "text/plain": [
              "((3257, 12, 150), (3257,), (766, 12, 150), (766,))"
            ]
          },
          "metadata": {},
          "execution_count": 73
        }
      ]
    },
    {
      "cell_type": "code",
      "source": [
        "cnt0=0\n",
        "cnt1=0\n",
        "cnt2=0\n",
        "for i in range(x_train.shape[0]):\n",
        "  if(y_train[i]==0):\n",
        "    cnt0+=1\n",
        "  elif(y_train[i]==1):\n",
        "    cnt1+=1\n",
        "  elif(y_train[i]==2):\n",
        "    cnt2+=1\n",
        "print(cnt0)\n",
        "print(cnt1)\n",
        "print(cnt2)  "
      ],
      "metadata": {
        "id": "xlijLVYecmcq",
        "colab": {
          "base_uri": "https://localhost:8080/"
        },
        "outputId": "dd72925b-c7a9-4a30-8a25-b7c027bdcd80"
      },
      "execution_count": 74,
      "outputs": [
        {
          "output_type": "stream",
          "name": "stdout",
          "text": [
            "1458\n",
            "869\n",
            "930\n"
          ]
        }
      ]
    },
    {
      "cell_type": "code",
      "source": [
        "x_train_1=[]\n",
        "y_train_1=[]\n",
        "c1=0\n",
        "c2=0\n",
        "c3=0\n",
        "x1=(cnt1-cnt0)/(cnt1)\n",
        "x1=x1*(-100)\n",
        "x1=int(x1)\n",
        "print(x1)\n",
        "x2=(cnt2-cnt0)/(cnt2)\n",
        "x2=x2*(-100)\n",
        "x2=int(x2)\n",
        "print(x2)\n",
        "for i in range(x_train.shape[0]):\n",
        "  if(y_train[i]==0):\n",
        "    x_train_1.append(x_train[i])\n",
        "    y_train_1.append(0)\n",
        "    c1+=1\n",
        "  elif(y_train[i]==1):\n",
        "    x_train_1.append(x_train[i])\n",
        "    y_train_1.append(1)\n",
        "    c2+=1\n",
        "  elif(y_train[i]==2 ):\n",
        "    x_train_1.append(x_train[i])\n",
        "    y_train_1.append(2)\n",
        "    c3=c3+1\n",
        "for i in range(x_train.shape[0]):\n",
        "  if(y_train[i]==1):\n",
        "    no=np.random.randint(100)\n",
        "    if(no>=100-x1):\n",
        "      x_train_1.append(x_train[i])\n",
        "      y_train_1.append(1)\n",
        "      c2+=1\n",
        "  elif(y_train[i]==2 ):\n",
        "    no=np.random.randint(100)\n",
        "    if(no>=100-x2):\n",
        "      x_train_1.append(x_train[i])\n",
        "      y_train_1.append(2)\n",
        "      c3+=1\n",
        "\n",
        "y_train=[]\n",
        "y_train=y_train_1\n",
        "x_train=[]\n",
        "x_train=x_train_1\n",
        "x_train=np.array(x_train)\n",
        "y_train=np.array(y_train)\n",
        "print(c1)\n",
        "print(c2)\n",
        "print(c3)"
      ],
      "metadata": {
        "id": "PqOHcbhQcuo8",
        "colab": {
          "base_uri": "https://localhost:8080/"
        },
        "outputId": "f355ee7b-7fbb-4768-ef26-1f3a0b8ea197"
      },
      "execution_count": 75,
      "outputs": [
        {
          "output_type": "stream",
          "name": "stdout",
          "text": [
            "67\n",
            "56\n",
            "1458\n",
            "1477\n",
            "1459\n"
          ]
        }
      ]
    },
    {
      "cell_type": "code",
      "source": [
        "sklearn_weights=class_weight.compute_class_weight(class_weight='balanced',classes=np.unique(y_train),y=y_train)\n",
        "sklearn_weights=dict(zip(np.unique(y_train),sklearn_weights))\n",
        "sklearn_weights"
      ],
      "metadata": {
        "id": "EYzwuCcAbDKT",
        "colab": {
          "base_uri": "https://localhost:8080/"
        },
        "outputId": "32c1a8e3-81c3-47a9-c877-e6e2e2d319a9"
      },
      "execution_count": 76,
      "outputs": [
        {
          "output_type": "execute_result",
          "data": {
            "text/plain": [
              "{0: 1.0045724737082762, 1: 0.9916497404649064, 2: 1.0038839387708476}"
            ]
          },
          "metadata": {},
          "execution_count": 76
        }
      ]
    },
    {
      "cell_type": "code",
      "source": [
        "\n",
        "# model = Sequential()\n",
        "# model.add(LSTM(200, activation='relu', return_sequences=True, input_shape=( t,150,)))\n",
        "# model.add(LSTM(100, activation='relu', return_sequences=True))\n",
        "# model.add(LSTM(50, activation='relu', return_sequences=True))\n",
        "# model.add(LSTM(25, activation='relu'))\n",
        "# model.add(Dense(20, activation='relu'))\n",
        "# model.add(Dense(10, activation='relu'))\n",
        "# model.add(Dense(3))\n",
        "# model.compile(optimizer='SGD', loss='sparse_categorical_crossentropy',metrics=['accuracy'])\n",
        "# history = model.fit(x_train, y_train, epochs=10, validation_split=0.2, verbose=1)\n",
        "# test_output = model.predict(x_test, verbose=1)\n",
        "# # history = model.fit(X, Y, epochs=1000, validation_split=0.2, verbose=1)\n",
        "# # test_output = model.predict(x=, verbose=0)\n",
        "# # print(test_output)"
      ],
      "metadata": {
        "id": "rhgsSos1KIbA"
      },
      "execution_count": 77,
      "outputs": []
    },
    {
      "cell_type": "code",
      "source": [
        "# sklearn_weights={0:1738,1:2348,2:2362}\n",
        "model = Sequential()\n",
        "model.add(LSTM(200, activation='relu', return_sequences=True, input_shape=( t,150,)))\n",
        "model.add(LSTM(400, activation='relu', return_sequences=True))\n",
        "model.add(LSTM(800, activation='relu', return_sequences=True))\n",
        "model.add(LSTM(150, activation='relu'))\n",
        "model.add(Dense(100, activation='relu'))\n",
        "model.add(Dense(64, activation='relu'))\n",
        "model.add(Dense(10, activation='relu'))\n",
        "model.add(Dense(3,activation='sigmoid'))\n",
        "optimi=keras.optimizers.Adam()\n",
        "model.compile(optimizer=optimi, loss='sparse_categorical_crossentropy',metrics=['accuracy',get_f1])\n",
        "\n",
        "# history = model.fit(x_train, y_train, epochs=30, validation_split=0.2, verbose=1)\n",
        "history = model.fit(x_train, y_train, epochs=25, validation_split=0.2, verbose=1,class_weight=sklearn_weights)\n",
        "test_output = model.predict(x_test, verbose=1)\n"
      ],
      "metadata": {
        "id": "lwHPGS2iXMXc",
        "colab": {
          "base_uri": "https://localhost:8080/"
        },
        "outputId": "4b2d4f13-7f4c-4e58-93ab-531882ae400e"
      },
      "execution_count": 78,
      "outputs": [
        {
          "output_type": "stream",
          "name": "stderr",
          "text": [
            "WARNING:tensorflow:Layer lstm_12 will not use cuDNN kernels since it doesn't meet the criteria. It will use a generic GPU kernel as fallback when running on GPU.\n",
            "WARNING:tensorflow:Layer lstm_13 will not use cuDNN kernels since it doesn't meet the criteria. It will use a generic GPU kernel as fallback when running on GPU.\n",
            "WARNING:tensorflow:Layer lstm_14 will not use cuDNN kernels since it doesn't meet the criteria. It will use a generic GPU kernel as fallback when running on GPU.\n",
            "WARNING:tensorflow:Layer lstm_15 will not use cuDNN kernels since it doesn't meet the criteria. It will use a generic GPU kernel as fallback when running on GPU.\n"
          ]
        },
        {
          "output_type": "stream",
          "name": "stdout",
          "text": [
            "Epoch 1/25\n",
            "110/110 [==============================] - 18s 126ms/step - loss: 1.0948 - accuracy: 0.4102 - get_f1: 1.4609 - val_loss: 1.1373 - val_accuracy: 0.0000e+00 - val_get_f1: 2.0016\n",
            "Epoch 2/25\n",
            "110/110 [==============================] - 11s 101ms/step - loss: 1.0892 - accuracy: 0.4148 - get_f1: 1.4671 - val_loss: 1.1679 - val_accuracy: 0.0000e+00 - val_get_f1: 2.0016\n",
            "Epoch 3/25\n",
            "110/110 [==============================] - 11s 103ms/step - loss: 1.0864 - accuracy: 0.4148 - get_f1: 1.4659 - val_loss: 1.1897 - val_accuracy: 0.0000e+00 - val_get_f1: 2.0016\n",
            "Epoch 4/25\n",
            "110/110 [==============================] - 11s 101ms/step - loss: 1.0852 - accuracy: 0.4148 - get_f1: 1.4632 - val_loss: 1.2051 - val_accuracy: 0.0000e+00 - val_get_f1: 2.0016\n",
            "Epoch 5/25\n",
            "110/110 [==============================] - 12s 108ms/step - loss: 1.0846 - accuracy: 0.4148 - get_f1: 1.4687 - val_loss: 1.2141 - val_accuracy: 0.0000e+00 - val_get_f1: 2.0016\n",
            "Epoch 6/25\n",
            "110/110 [==============================] - 13s 115ms/step - loss: 1.0845 - accuracy: 0.4148 - get_f1: 1.4662 - val_loss: 1.2235 - val_accuracy: 0.0000e+00 - val_get_f1: 2.0016\n",
            "Epoch 7/25\n",
            "110/110 [==============================] - 11s 98ms/step - loss: 1.0843 - accuracy: 0.4148 - get_f1: 1.4673 - val_loss: 1.2253 - val_accuracy: 0.0000e+00 - val_get_f1: 2.0016\n",
            "Epoch 8/25\n",
            "110/110 [==============================] - 11s 98ms/step - loss: 1.0843 - accuracy: 0.4148 - get_f1: 1.4687 - val_loss: 1.2277 - val_accuracy: 0.0000e+00 - val_get_f1: 2.0016\n",
            "Epoch 9/25\n",
            "110/110 [==============================] - 11s 97ms/step - loss: 1.0844 - accuracy: 0.4148 - get_f1: 1.4665 - val_loss: 1.2298 - val_accuracy: 0.0000e+00 - val_get_f1: 2.0016\n",
            "Epoch 10/25\n",
            "110/110 [==============================] - 11s 96ms/step - loss: 1.0843 - accuracy: 0.4148 - get_f1: 1.4653 - val_loss: 1.2299 - val_accuracy: 0.0000e+00 - val_get_f1: 2.0016\n",
            "Epoch 11/25\n",
            "110/110 [==============================] - 13s 116ms/step - loss: 1.0843 - accuracy: 0.4148 - get_f1: 1.4671 - val_loss: 1.2314 - val_accuracy: 0.0000e+00 - val_get_f1: 2.0016\n",
            "Epoch 12/25\n",
            "110/110 [==============================] - 13s 117ms/step - loss: 1.0843 - accuracy: 0.4148 - get_f1: 1.4645 - val_loss: 1.2319 - val_accuracy: 0.0000e+00 - val_get_f1: 2.0016\n",
            "Epoch 13/25\n",
            "110/110 [==============================] - 11s 98ms/step - loss: 1.0843 - accuracy: 0.4148 - get_f1: 1.4662 - val_loss: 1.2329 - val_accuracy: 0.0000e+00 - val_get_f1: 2.0016\n",
            "Epoch 14/25\n",
            "110/110 [==============================] - 13s 116ms/step - loss: 1.0843 - accuracy: 0.4148 - get_f1: 1.4657 - val_loss: 1.2334 - val_accuracy: 0.0000e+00 - val_get_f1: 2.0016\n",
            "Epoch 15/25\n",
            "110/110 [==============================] - 13s 115ms/step - loss: 1.0843 - accuracy: 0.4148 - get_f1: 1.4660 - val_loss: 1.2315 - val_accuracy: 0.0000e+00 - val_get_f1: 2.0016\n",
            "Epoch 16/25\n",
            "110/110 [==============================] - 11s 100ms/step - loss: 1.0843 - accuracy: 0.4148 - get_f1: 1.4681 - val_loss: 1.2323 - val_accuracy: 0.0000e+00 - val_get_f1: 2.0016\n",
            "Epoch 17/25\n",
            "110/110 [==============================] - 11s 99ms/step - loss: 1.0843 - accuracy: 0.4148 - get_f1: 1.4619 - val_loss: 1.2309 - val_accuracy: 0.0000e+00 - val_get_f1: 2.0016\n",
            "Epoch 18/25\n",
            "110/110 [==============================] - 11s 101ms/step - loss: 1.0843 - accuracy: 0.4148 - get_f1: 1.4688 - val_loss: 1.2316 - val_accuracy: 0.0000e+00 - val_get_f1: 2.0016\n",
            "Epoch 19/25\n",
            "110/110 [==============================] - 11s 101ms/step - loss: 1.0843 - accuracy: 0.4148 - get_f1: 1.4668 - val_loss: 1.2320 - val_accuracy: 0.0000e+00 - val_get_f1: 2.0016\n",
            "Epoch 20/25\n",
            "110/110 [==============================] - 13s 117ms/step - loss: 1.0843 - accuracy: 0.4148 - get_f1: 1.4670 - val_loss: 1.2314 - val_accuracy: 0.0000e+00 - val_get_f1: 2.0016\n",
            "Epoch 21/25\n",
            "110/110 [==============================] - 11s 100ms/step - loss: 1.0843 - accuracy: 0.4148 - get_f1: 1.4662 - val_loss: 1.2323 - val_accuracy: 0.0000e+00 - val_get_f1: 2.0016\n",
            "Epoch 22/25\n",
            "110/110 [==============================] - 11s 100ms/step - loss: 1.0844 - accuracy: 0.4148 - get_f1: 1.4619 - val_loss: 1.2311 - val_accuracy: 0.0000e+00 - val_get_f1: 2.0016\n",
            "Epoch 23/25\n",
            "110/110 [==============================] - 11s 101ms/step - loss: 1.0844 - accuracy: 0.4148 - get_f1: 1.4665 - val_loss: 1.2297 - val_accuracy: 0.0000e+00 - val_get_f1: 2.0016\n",
            "Epoch 24/25\n",
            "110/110 [==============================] - 11s 100ms/step - loss: 1.0843 - accuracy: 0.4148 - get_f1: 1.4673 - val_loss: 1.2314 - val_accuracy: 0.0000e+00 - val_get_f1: 2.0016\n",
            "Epoch 25/25\n",
            "110/110 [==============================] - 13s 117ms/step - loss: 1.0843 - accuracy: 0.4148 - get_f1: 1.4686 - val_loss: 1.2304 - val_accuracy: 0.0000e+00 - val_get_f1: 2.0016\n",
            "24/24 [==============================] - 1s 11ms/step\n"
          ]
        }
      ]
    },
    {
      "cell_type": "code",
      "source": [
        "test_output_1=np.array([np.argmax(i)  for i in test_output])\n",
        "from sklearn.metrics import confusion_matrix,accuracy_score\n",
        "print(confusion_matrix(y_test,test_output_1))\n",
        "test_output=pd.DataFrame(test_output)\n",
        "print(accuracy_score(y_test,test_output_1))\n"
      ],
      "metadata": {
        "id": "Q_hmR6MK_Bq5",
        "colab": {
          "base_uri": "https://localhost:8080/"
        },
        "outputId": "3e403c61-c321-4634-b9a4-b7afdfcc1e1d"
      },
      "execution_count": 79,
      "outputs": [
        {
          "output_type": "stream",
          "name": "stdout",
          "text": [
            "[[365   0   0]\n",
            " [186   0   0]\n",
            " [215   0   0]]\n",
            "0.4765013054830287\n"
          ]
        }
      ]
    },
    {
      "cell_type": "code",
      "source": [
        "print(get_f1(y_test.astype('float32'), test_output_1.astype('float32')))"
      ],
      "metadata": {
        "id": "ZsHojwC3G8gQ",
        "colab": {
          "base_uri": "https://localhost:8080/"
        },
        "outputId": "5bbcfccb-94a7-4788-ccde-729203dcb6c6"
      },
      "execution_count": 80,
      "outputs": [
        {
          "output_type": "stream",
          "name": "stdout",
          "text": [
            "tf.Tensor(0.0, shape=(), dtype=float32)\n"
          ]
        }
      ]
    },
    {
      "cell_type": "code",
      "source": [
        "x_train_reshaped = x_train.reshape(x_train.shape[0], -1)\n",
        "x_test_reshaped = x_test.reshape(x_test.shape[0], -1)\n",
        "savetxt('arrxtrain.csv', x_train_reshaped, delimiter=',')\n",
        "savetxt('arrytrain.csv', y_train, delimiter=',')\n",
        "savetxt('arrxtest.csv', x_test_reshaped, delimiter=',')\n",
        "savetxt('arrytest.csv', y_test, delimiter=',')"
      ],
      "metadata": {
        "id": "oxhtZHtkBWOe"
      },
      "execution_count": 81,
      "outputs": []
    }
  ]
}