{
  "nbformat": 4,
  "nbformat_minor": 0,
  "metadata": {
    "colab": {
      "provenance": [],
      "include_colab_link": true
    },
    "kernelspec": {
      "name": "python3",
      "display_name": "Python 3"
    },
    "language_info": {
      "name": "python"
    },
    "accelerator": "GPU",
    "gpuClass": "standard"
  },
  "cells": [
    {
      "cell_type": "markdown",
      "metadata": {
        "id": "view-in-github",
        "colab_type": "text"
      },
      "source": [
        "<a href=\"https://colab.research.google.com/github/Aryansh085/lap_data_final/blob/main/t14.ipynb\" target=\"_parent\"><img src=\"https://colab.research.google.com/assets/colab-badge.svg\" alt=\"Open In Colab\"/></a>"
      ]
    },
    {
      "cell_type": "code",
      "source": [
        "import numpy as np\n",
        "import tensorflow as tf\n",
        "from tensorflow.keras import losses as lo_ss\n",
        "from tensorflow.keras.models import Sequential\n",
        "from tensorflow.keras.layers import LSTM\n",
        "from tensorflow.keras.layers import Dense, Dropout\n",
        "import string\n",
        "import pandas as pd\n",
        "from matplotlib import pyplot as plt\n",
        "from sklearn.preprocessing import StandardScaler\n",
        "import seaborn as sns\n",
        "from sklearn import model_selection\n",
        "from sklearn.datasets import make_classification\n",
        "from sklearn.utils import class_weight\n",
        "from sklearn.metrics import classification_report , roc_auc_score\n",
        "import keras \n",
        "import keras.backend as K\n",
        "from google.colab import drive\n",
        "from numpy import savetxt\n",
        "import os"
      ],
      "metadata": {
        "id": "V1kLUX7gJ3N_"
      },
      "execution_count": 1,
      "outputs": []
    },
    {
      "cell_type": "code",
      "source": [
        "drive.mount('/content/gdrive')\n"
      ],
      "metadata": {
        "colab": {
          "base_uri": "https://localhost:8080/"
        },
        "id": "HXmXAIAJArT2",
        "outputId": "9c232b73-edae-4040-c38c-31212cf7cf8f"
      },
      "execution_count": 2,
      "outputs": [
        {
          "output_type": "stream",
          "name": "stdout",
          "text": [
            "Drive already mounted at /content/gdrive; to attempt to forcibly remount, call drive.mount(\"/content/gdrive\", force_remount=True).\n"
          ]
        }
      ]
    },
    {
      "cell_type": "code",
      "source": [
        "t=14"
      ],
      "metadata": {
        "id": "uLTug-YJDW8D"
      },
      "execution_count": 3,
      "outputs": []
    },
    {
      "cell_type": "code",
      "source": [
        "os.chdir('/content/gdrive/MyDrive/laplstm/final/t'+str(t))"
      ],
      "metadata": {
        "id": "ubPkwGQnA8Wx"
      },
      "execution_count": 4,
      "outputs": []
    },
    {
      "cell_type": "code",
      "source": [
        "import os\n",
        "github_raw_link=\"https://raw.githubusercontent.com/Aryansh085/LAP/main/858417d1-7d54-4115-a01b-fdda5e03ada3_testing_combined_rows4035_disc_1_0p9_MULTIPLY_preproces_155cols.csv\"\n",
        "df1=pd.read_csv((github_raw_link),header = None)\n",
        "dftemp=np.array(df1)\n",
        "dftemp.shape\n",
        "dftemp2=dftemp[:,5:]\n",
        "dftemp2=np.array(dftemp2)\n",
        "print(dftemp2.shape)"
      ],
      "metadata": {
        "id": "3UWvhrydJ8hA",
        "colab": {
          "base_uri": "https://localhost:8080/"
        },
        "outputId": "b2f86d39-a7f0-4fd6-c03d-702137a2c21c"
      },
      "execution_count": 5,
      "outputs": [
        {
          "output_type": "stream",
          "name": "stdout",
          "text": [
            "(4035, 150)\n"
          ]
        }
      ]
    },
    {
      "cell_type": "code",
      "source": [
        "# dftemp2\n",
        "dftemp2.shape\n",
        "# dftemp2=pd.DataFrame(dftemp2)\n",
        "# dftemp2.head()"
      ],
      "metadata": {
        "id": "h00YSxPn8rUk",
        "colab": {
          "base_uri": "https://localhost:8080/"
        },
        "outputId": "24a9276c-ae42-4815-c694-d5a72c502d14"
      },
      "execution_count": 6,
      "outputs": [
        {
          "output_type": "execute_result",
          "data": {
            "text/plain": [
              "(4035, 150)"
            ]
          },
          "metadata": {},
          "execution_count": 6
        }
      ]
    },
    {
      "cell_type": "markdown",
      "source": [
        "--> muliply the reward of that instance into the loss of that instance to give weight"
      ],
      "metadata": {
        "id": "pPfqIsthYP2X"
      }
    },
    {
      "cell_type": "code",
      "source": [
        "from sklearn.preprocessing import StandardScaler\n",
        "\n",
        "slr=StandardScaler()\n",
        "slr.fit(dftemp2)\n",
        "dftemp2 = slr.transform(dftemp2)"
      ],
      "metadata": {
        "id": "kWYAqDfnO_1i"
      },
      "execution_count": 7,
      "outputs": []
    },
    {
      "cell_type": "code",
      "source": [
        "# f1-score function\n",
        "def get_f1(y_true, y_pred): #taken from old keras source code\n",
        "    true_positives = K.sum(K.round(K.clip(y_true * y_pred, 0, 1)))\n",
        "    possible_positives = K.sum(K.round(K.clip(y_true, 0, 1)))\n",
        "    predicted_positives = K.sum(K.round(K.clip(y_pred, 0, 1)))\n",
        "    precision = true_positives / (predicted_positives + K.epsilon())\n",
        "    recall = true_positives / (possible_positives + K.epsilon())\n",
        "    f1_val = 2*(precision*recall)/(precision+recall+K.epsilon())\n",
        "    return f1_val\n",
        "    "
      ],
      "metadata": {
        "id": "4i-6LDL58GyW"
      },
      "execution_count": 8,
      "outputs": []
    },
    {
      "cell_type": "code",
      "source": [],
      "metadata": {
        "id": "83zizsyvKHzh"
      },
      "execution_count": 8,
      "outputs": []
    },
    {
      "cell_type": "code",
      "source": [
        "y=np.array(dftemp[:,0])\n",
        "print(y)\n",
        "y_new=y[t:]\n",
        "y_new.shape\n"
      ],
      "metadata": {
        "id": "XmXnkjOiKIGQ",
        "colab": {
          "base_uri": "https://localhost:8080/"
        },
        "outputId": "24b7248d-fcc4-433e-e081-afd19fde94fb"
      },
      "execution_count": 9,
      "outputs": [
        {
          "output_type": "stream",
          "name": "stdout",
          "text": [
            "[2. 0. 0. ... 0. 2. 2.]\n"
          ]
        },
        {
          "output_type": "execute_result",
          "data": {
            "text/plain": [
              "(4021,)"
            ]
          },
          "metadata": {},
          "execution_count": 9
        }
      ]
    },
    {
      "cell_type": "code",
      "source": [
        "x=np.array(dftemp2)\n",
        "# print(x)\n",
        "# print(x.shape)\n",
        "x.shape,y_new.shape"
      ],
      "metadata": {
        "id": "3JPzLQQmKhZk",
        "colab": {
          "base_uri": "https://localhost:8080/"
        },
        "outputId": "8b84041c-2b65-47cb-e8ff-d2de8bc7c159"
      },
      "execution_count": 10,
      "outputs": [
        {
          "output_type": "execute_result",
          "data": {
            "text/plain": [
              "((4035, 150), (4021,))"
            ]
          },
          "metadata": {},
          "execution_count": 10
        }
      ]
    },
    {
      "cell_type": "code",
      "source": [
        "x_3d=[]\n",
        "for i in range(4035-t):\n",
        "  tmp=[]\n",
        "  for j in range(t):\n",
        "    tmp.append(x[j+i])\n",
        "  x_3d.append(tmp)\n",
        "x_3d= np.array(x_3d)\n",
        "x_3d.shape"
      ],
      "metadata": {
        "id": "hdDY6fhENZ2-",
        "colab": {
          "base_uri": "https://localhost:8080/"
        },
        "outputId": "809bf45f-18d7-4093-9126-21c661b40d35"
      },
      "execution_count": 11,
      "outputs": [
        {
          "output_type": "execute_result",
          "data": {
            "text/plain": [
              "(4021, 14, 150)"
            ]
          },
          "metadata": {},
          "execution_count": 11
        }
      ]
    },
    {
      "cell_type": "code",
      "source": [
        "train_test_ratio=0.8\n",
        "print(x_3d.shape[0])\n",
        "x_train=[]\n",
        "y_train=[]\n",
        "x_test=[]\n",
        "y_test=[]\n",
        "for i in range(x_3d.shape[0]):\n",
        "  l=[]\n",
        "  ly=[]\n",
        "  no=np.random.randint(100)\n",
        "  if(no<80):\n",
        "    l=x_3d[i]\n",
        "    ly=y_new[i]\n",
        "    x_train.append(l)\n",
        "    y_train.append(ly)\n",
        "  else:\n",
        "    l=x_3d[i]\n",
        "    ly=y_new[i]\n",
        "    x_test.append(l)\n",
        "    y_test.append(ly)\n",
        "\n",
        "\n",
        "x_train=np.array(x_train)\n",
        "y_train=np.array(y_train)\n",
        "x_test=np.array(x_test)\n",
        "y_test=np.array(y_test)\n",
        "x_train.shape,y_train.shape,x_test.shape,y_test.shape"
      ],
      "metadata": {
        "id": "AwnZ3Mh1Khi8",
        "colab": {
          "base_uri": "https://localhost:8080/"
        },
        "outputId": "a2cf4153-83d1-4e09-852f-0e85c65afd02"
      },
      "execution_count": 12,
      "outputs": [
        {
          "output_type": "stream",
          "name": "stdout",
          "text": [
            "4021\n"
          ]
        },
        {
          "output_type": "execute_result",
          "data": {
            "text/plain": [
              "((3216, 14, 150), (3216,), (805, 14, 150), (805,))"
            ]
          },
          "metadata": {},
          "execution_count": 12
        }
      ]
    },
    {
      "cell_type": "code",
      "source": [
        "cnt0=0\n",
        "cnt1=0\n",
        "cnt2=0\n",
        "for i in range(x_train.shape[0]):\n",
        "  if(y_train[i]==0):\n",
        "    cnt0+=1\n",
        "  elif(y_train[i]==1):\n",
        "    cnt1+=1\n",
        "  elif(y_train[i]==2):\n",
        "    cnt2+=1\n",
        "print(cnt0)\n",
        "print(cnt1)\n",
        "print(cnt2)  "
      ],
      "metadata": {
        "id": "xlijLVYecmcq",
        "colab": {
          "base_uri": "https://localhost:8080/"
        },
        "outputId": "8789917e-03b4-4c9e-b399-44de9e779484"
      },
      "execution_count": 13,
      "outputs": [
        {
          "output_type": "stream",
          "name": "stdout",
          "text": [
            "1448\n",
            "841\n",
            "927\n"
          ]
        }
      ]
    },
    {
      "cell_type": "code",
      "source": [
        "x_train_1=[]\n",
        "y_train_1=[]\n",
        "c1=0\n",
        "c2=0\n",
        "c3=0\n",
        "x1=(cnt1-cnt0)/(cnt1)\n",
        "x1=x1*(-100)\n",
        "x1=int(x1)\n",
        "print(x1)\n",
        "x2=(cnt2-cnt0)/(cnt2)\n",
        "x2=x2*(-100)\n",
        "x2=int(x2)\n",
        "print(x2)\n",
        "for i in range(x_train.shape[0]):\n",
        "  if(y_train[i]==0):\n",
        "    x_train_1.append(x_train[i])\n",
        "    y_train_1.append(0)\n",
        "    c1+=1\n",
        "  elif(y_train[i]==1):\n",
        "    x_train_1.append(x_train[i])\n",
        "    y_train_1.append(1)\n",
        "    c2+=1\n",
        "  elif(y_train[i]==2 ):\n",
        "    x_train_1.append(x_train[i])\n",
        "    y_train_1.append(2)\n",
        "    c3=c3+1\n",
        "for i in range(x_train.shape[0]):\n",
        "  if(y_train[i]==1):\n",
        "    no=np.random.randint(100)\n",
        "    if(no>=100-x1):\n",
        "      x_train_1.append(x_train[i])\n",
        "      y_train_1.append(1)\n",
        "      c2+=1\n",
        "  elif(y_train[i]==2 ):\n",
        "    no=np.random.randint(100)\n",
        "    if(no>=100-x2):\n",
        "      x_train_1.append(x_train[i])\n",
        "      y_train_1.append(2)\n",
        "      c3+=1\n",
        "\n",
        "y_train=[]\n",
        "y_train=y_train_1\n",
        "x_train=[]\n",
        "x_train=x_train_1\n",
        "x_train=np.array(x_train)\n",
        "y_train=np.array(y_train)\n",
        "print(c1)\n",
        "print(c2)\n",
        "print(c3)"
      ],
      "metadata": {
        "id": "PqOHcbhQcuo8",
        "colab": {
          "base_uri": "https://localhost:8080/"
        },
        "outputId": "2407e75c-73d6-4152-9f01-1a251245d525"
      },
      "execution_count": 14,
      "outputs": [
        {
          "output_type": "stream",
          "name": "stdout",
          "text": [
            "72\n",
            "56\n",
            "1448\n",
            "1452\n",
            "1437\n"
          ]
        }
      ]
    },
    {
      "cell_type": "code",
      "source": [
        "sklearn_weights=class_weight.compute_class_weight(class_weight='balanced',classes=np.unique(y_train),y=y_train)\n",
        "sklearn_weights=dict(zip(np.unique(y_train),sklearn_weights))\n",
        "sklearn_weights"
      ],
      "metadata": {
        "id": "EYzwuCcAbDKT",
        "colab": {
          "base_uri": "https://localhost:8080/"
        },
        "outputId": "d51cc832-b45c-4b09-d678-f6f89de786f6"
      },
      "execution_count": 15,
      "outputs": [
        {
          "output_type": "execute_result",
          "data": {
            "text/plain": [
              "{0: 0.9983885819521179, 1: 0.9956382001836547, 2: 1.006031083275342}"
            ]
          },
          "metadata": {},
          "execution_count": 15
        }
      ]
    },
    {
      "cell_type": "code",
      "source": [
        "\n",
        "# model = Sequential()\n",
        "# model.add(LSTM(200, activation='relu', return_sequences=True, input_shape=( t,150,)))\n",
        "# model.add(LSTM(100, activation='relu', return_sequences=True))\n",
        "# model.add(LSTM(50, activation='relu', return_sequences=True))\n",
        "# model.add(LSTM(25, activation='relu'))\n",
        "# model.add(Dense(20, activation='relu'))\n",
        "# model.add(Dense(10, activation='relu'))\n",
        "# model.add(Dense(3))\n",
        "# model.compile(optimizer='SGD', loss='sparse_categorical_crossentropy',metrics=['accuracy'])\n",
        "# history = model.fit(x_train, y_train, epochs=10, validation_split=0.2, verbose=1)\n",
        "# test_output = model.predict(x_test, verbose=1)\n",
        "# # history = model.fit(X, Y, epochs=1000, validation_split=0.2, verbose=1)\n",
        "# # test_output = model.predict(x=, verbose=0)\n",
        "# # print(test_output)"
      ],
      "metadata": {
        "id": "rhgsSos1KIbA"
      },
      "execution_count": 16,
      "outputs": []
    },
    {
      "cell_type": "code",
      "source": [
        "# sklearn_weights={0:1738,1:2348,2:2362}\n",
        "model = Sequential()\n",
        "model.add(LSTM(200, activation='relu', return_sequences=True, input_shape=( t,150,)))\n",
        "model.add(LSTM(400, activation='relu', return_sequences=True))\n",
        "model.add(LSTM(800, activation='relu', return_sequences=True))\n",
        "model.add(LSTM(150, activation='relu'))\n",
        "model.add(Dense(100, activation='relu'))\n",
        "model.add(Dense(64, activation='relu'))\n",
        "model.add(Dense(10, activation='relu'))\n",
        "model.add(Dense(3,activation='sigmoid'))\n",
        "optimi=keras.optimizers.Adam()\n",
        "model.compile(optimizer=optimi, loss='sparse_categorical_crossentropy',metrics=['accuracy',get_f1])\n",
        "\n",
        "# history = model.fit(x_train, y_train, epochs=30, validation_split=0.2, verbose=1)\n",
        "history = model.fit(x_train, y_train, epochs=25, validation_split=0.2, verbose=1,class_weight=sklearn_weights)\n",
        "test_output = model.predict(x_test, verbose=1)\n"
      ],
      "metadata": {
        "id": "lwHPGS2iXMXc",
        "colab": {
          "base_uri": "https://localhost:8080/"
        },
        "outputId": "98709fc5-0cbc-4c53-8f58-c3d37dbe931b"
      },
      "execution_count": 17,
      "outputs": [
        {
          "output_type": "stream",
          "name": "stderr",
          "text": [
            "WARNING:tensorflow:Layer lstm will not use cuDNN kernels since it doesn't meet the criteria. It will use a generic GPU kernel as fallback when running on GPU.\n",
            "WARNING:tensorflow:Layer lstm_1 will not use cuDNN kernels since it doesn't meet the criteria. It will use a generic GPU kernel as fallback when running on GPU.\n",
            "WARNING:tensorflow:Layer lstm_2 will not use cuDNN kernels since it doesn't meet the criteria. It will use a generic GPU kernel as fallback when running on GPU.\n",
            "WARNING:tensorflow:Layer lstm_3 will not use cuDNN kernels since it doesn't meet the criteria. It will use a generic GPU kernel as fallback when running on GPU.\n"
          ]
        },
        {
          "output_type": "stream",
          "name": "stdout",
          "text": [
            "Epoch 1/25\n",
            "109/109 [==============================] - 26s 146ms/step - loss: 1.0761 - accuracy: 0.4235 - get_f1: 1.4297 - val_loss: 1.1599 - val_accuracy: 0.2696 - val_get_f1: 1.7780\n",
            "Epoch 2/25\n",
            "109/109 [==============================] - 14s 124ms/step - loss: 0.9785 - accuracy: 0.5180 - get_f1: 1.2803 - val_loss: 1.0511 - val_accuracy: 0.3929 - val_get_f1: 1.6504\n",
            "Epoch 3/25\n",
            "109/109 [==============================] - 15s 142ms/step - loss: 0.8998 - accuracy: 0.5549 - get_f1: 1.2425 - val_loss: 0.8785 - val_accuracy: 0.3929 - val_get_f1: 1.6207\n",
            "Epoch 4/25\n",
            "109/109 [==============================] - 17s 158ms/step - loss: 0.8432 - accuracy: 0.5670 - get_f1: 1.2422 - val_loss: 1.1902 - val_accuracy: 0.3548 - val_get_f1: 1.6892\n",
            "Epoch 5/25\n",
            "109/109 [==============================] - 15s 135ms/step - loss: 0.8176 - accuracy: 0.5973 - get_f1: 1.2483 - val_loss: 0.9227 - val_accuracy: 0.4078 - val_get_f1: 1.5616\n",
            "Epoch 6/25\n",
            "109/109 [==============================] - 14s 126ms/step - loss: 0.8563 - accuracy: 0.5895 - get_f1: 1.2297 - val_loss: 0.9656 - val_accuracy: 0.4482 - val_get_f1: 1.6690\n",
            "Epoch 7/25\n",
            "109/109 [==============================] - 14s 126ms/step - loss: 0.7687 - accuracy: 0.6247 - get_f1: 1.2389 - val_loss: 1.2298 - val_accuracy: 0.3813 - val_get_f1: 1.6600\n",
            "Epoch 8/25\n",
            "109/109 [==============================] - 15s 142ms/step - loss: 0.9417 - accuracy: 0.6103 - get_f1: 1.2645 - val_loss: 0.9917 - val_accuracy: 0.3456 - val_get_f1: 1.6758\n",
            "Epoch 9/25\n",
            "109/109 [==============================] - 14s 133ms/step - loss: 1.5740 - accuracy: 0.6342 - get_f1: 1.2729 - val_loss: 0.8041 - val_accuracy: 0.5461 - val_get_f1: 1.5519\n",
            "Epoch 10/25\n",
            "109/109 [==============================] - 14s 125ms/step - loss: 0.5681 - accuracy: 0.7155 - get_f1: 1.1856 - val_loss: 0.6880 - val_accuracy: 0.4574 - val_get_f1: 1.4350\n",
            "Epoch 11/25\n",
            "109/109 [==============================] - 14s 125ms/step - loss: 0.5508 - accuracy: 0.7426 - get_f1: 1.2154 - val_loss: 0.9137 - val_accuracy: 0.6118 - val_get_f1: 1.4490\n",
            "Epoch 12/25\n",
            "109/109 [==============================] - 15s 142ms/step - loss: 0.4959 - accuracy: 0.7189 - get_f1: 1.1548 - val_loss: 0.7487 - val_accuracy: 0.4804 - val_get_f1: 1.4385\n",
            "Epoch 13/25\n",
            "109/109 [==============================] - 14s 124ms/step - loss: 0.3885 - accuracy: 0.7276 - get_f1: 1.1527 - val_loss: 0.4845 - val_accuracy: 0.6141 - val_get_f1: 1.4513\n",
            "Epoch 14/25\n",
            "109/109 [==============================] - 14s 125ms/step - loss: 0.3910 - accuracy: 0.7282 - get_f1: 1.1594 - val_loss: 0.5544 - val_accuracy: 0.6210 - val_get_f1: 1.4671\n",
            "Epoch 15/25\n",
            "109/109 [==============================] - 15s 134ms/step - loss: 0.3450 - accuracy: 0.7483 - get_f1: 1.1842 - val_loss: 0.3561 - val_accuracy: 0.6440 - val_get_f1: 1.4736\n",
            "Epoch 16/25\n",
            "109/109 [==============================] - 14s 131ms/step - loss: 0.2592 - accuracy: 0.7599 - get_f1: 1.1906 - val_loss: 0.2601 - val_accuracy: 0.5438 - val_get_f1: 1.4364\n",
            "Epoch 17/25\n",
            "109/109 [==============================] - 14s 125ms/step - loss: 0.3763 - accuracy: 0.7420 - get_f1: 1.1806 - val_loss: 0.2802 - val_accuracy: 0.5991 - val_get_f1: 1.4539\n",
            "Epoch 18/25\n",
            "109/109 [==============================] - 14s 126ms/step - loss: 0.2055 - accuracy: 0.7633 - get_f1: 1.1881 - val_loss: 0.3665 - val_accuracy: 0.6313 - val_get_f1: 1.4559\n",
            "Epoch 19/25\n",
            "109/109 [==============================] - 15s 140ms/step - loss: 0.2371 - accuracy: 0.7475 - get_f1: 1.1868 - val_loss: 0.4383 - val_accuracy: 0.5565 - val_get_f1: 1.4383\n",
            "Epoch 20/25\n",
            "109/109 [==============================] - 16s 145ms/step - loss: 0.2651 - accuracy: 0.7515 - get_f1: 1.2153 - val_loss: 0.3144 - val_accuracy: 0.6417 - val_get_f1: 1.4652\n",
            "Epoch 21/25\n",
            "109/109 [==============================] - 20s 187ms/step - loss: 0.2002 - accuracy: 0.7648 - get_f1: 1.1904 - val_loss: 0.1697 - val_accuracy: 0.5749 - val_get_f1: 1.4411\n",
            "Epoch 22/25\n",
            "109/109 [==============================] - 14s 128ms/step - loss: 0.1280 - accuracy: 0.7437 - get_f1: 1.1841 - val_loss: 0.1678 - val_accuracy: 0.5265 - val_get_f1: 1.4358\n",
            "Epoch 23/25\n",
            "109/109 [==============================] - 15s 139ms/step - loss: 3.6102 - accuracy: 0.4307 - get_f1: 1.2337 - val_loss: 1.0165 - val_accuracy: 0.2604 - val_get_f1: 1.8140\n",
            "Epoch 24/25\n",
            "109/109 [==============================] - 14s 125ms/step - loss: 0.9337 - accuracy: 0.6296 - get_f1: 1.2993 - val_loss: 0.7316 - val_accuracy: 0.5369 - val_get_f1: 1.5135\n",
            "Epoch 25/25\n",
            "109/109 [==============================] - 13s 123ms/step - loss: 0.8011 - accuracy: 0.6855 - get_f1: 1.2549 - val_loss: 0.8902 - val_accuracy: 0.4343 - val_get_f1: 1.7326\n",
            "26/26 [==============================] - 1s 20ms/step\n"
          ]
        }
      ]
    },
    {
      "cell_type": "code",
      "source": [
        "test_output_1=np.array([np.argmax(i)  for i in test_output])\n",
        "from sklearn.metrics import confusion_matrix,accuracy_score\n",
        "print(confusion_matrix(y_test,test_output_1))\n",
        "test_output=pd.DataFrame(test_output)\n",
        "print(accuracy_score(y_test,test_output_1))\n"
      ],
      "metadata": {
        "id": "Q_hmR6MK_Bq5",
        "colab": {
          "base_uri": "https://localhost:8080/"
        },
        "outputId": "f97892f4-94c1-4422-fdc5-a9d498ec6ea9"
      },
      "execution_count": 18,
      "outputs": [
        {
          "output_type": "stream",
          "name": "stdout",
          "text": [
            "[[318  55   2]\n",
            " [130  81   3]\n",
            " [139  63  14]]\n",
            "0.5130434782608696\n"
          ]
        }
      ]
    },
    {
      "cell_type": "code",
      "source": [
        "print(get_f1(y_test.astype('float32'), test_output_1.astype('float32')))"
      ],
      "metadata": {
        "id": "ZsHojwC3G8gQ",
        "colab": {
          "base_uri": "https://localhost:8080/"
        },
        "outputId": "a64f1e7a-c5fa-430c-d7cd-b911654fd8f6"
      },
      "execution_count": 19,
      "outputs": [
        {
          "output_type": "stream",
          "name": "stdout",
          "text": [
            "tf.Tensor(0.4969135, shape=(), dtype=float32)\n"
          ]
        }
      ]
    },
    {
      "cell_type": "code",
      "source": [
        "x_train_reshaped = x_train.reshape(x_train.shape[0], -1)\n",
        "x_test_reshaped = x_test.reshape(x_test.shape[0], -1)\n",
        "savetxt('arrxtrain.csv', x_train_reshaped, delimiter=',')\n",
        "savetxt('arrytrain.csv', y_train, delimiter=',')\n",
        "savetxt('arrxtest.csv', x_test_reshaped, delimiter=',')\n",
        "savetxt('arrytest.csv', y_test, delimiter=',')"
      ],
      "metadata": {
        "id": "oxhtZHtkBWOe"
      },
      "execution_count": 20,
      "outputs": []
    }
  ]
}