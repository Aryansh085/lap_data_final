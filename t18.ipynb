{
  "nbformat": 4,
  "nbformat_minor": 0,
  "metadata": {
    "colab": {
      "provenance": [],
      "include_colab_link": true
    },
    "kernelspec": {
      "name": "python3",
      "display_name": "Python 3"
    },
    "language_info": {
      "name": "python"
    },
    "accelerator": "GPU",
    "gpuClass": "standard"
  },
  "cells": [
    {
      "cell_type": "markdown",
      "metadata": {
        "id": "view-in-github",
        "colab_type": "text"
      },
      "source": [
        "<a href=\"https://colab.research.google.com/github/Aryansh085/lap_data_final/blob/main/t18.ipynb\" target=\"_parent\"><img src=\"https://colab.research.google.com/assets/colab-badge.svg\" alt=\"Open In Colab\"/></a>"
      ]
    },
    {
      "cell_type": "code",
      "source": [
        "import numpy as np\n",
        "import tensorflow as tf\n",
        "from tensorflow.keras import losses as lo_ss\n",
        "from tensorflow.keras.models import Sequential\n",
        "from tensorflow.keras.layers import LSTM\n",
        "from tensorflow.keras.layers import Dense, Dropout\n",
        "import string\n",
        "import pandas as pd\n",
        "from matplotlib import pyplot as plt\n",
        "from sklearn.preprocessing import StandardScaler\n",
        "import seaborn as sns\n",
        "from sklearn import model_selection\n",
        "from sklearn.datasets import make_classification\n",
        "from sklearn.utils import class_weight\n",
        "from sklearn.metrics import classification_report , roc_auc_score\n",
        "import keras \n",
        "import keras.backend as K\n",
        "from google.colab import drive\n",
        "from numpy import savetxt\n",
        "import os"
      ],
      "metadata": {
        "id": "V1kLUX7gJ3N_"
      },
      "execution_count": 21,
      "outputs": []
    },
    {
      "cell_type": "code",
      "source": [
        "drive.mount('/content/gdrive')\n"
      ],
      "metadata": {
        "colab": {
          "base_uri": "https://localhost:8080/"
        },
        "id": "HXmXAIAJArT2",
        "outputId": "fac93683-dc0e-415d-f097-65270ed62a5e"
      },
      "execution_count": 22,
      "outputs": [
        {
          "output_type": "stream",
          "name": "stdout",
          "text": [
            "Drive already mounted at /content/gdrive; to attempt to forcibly remount, call drive.mount(\"/content/gdrive\", force_remount=True).\n"
          ]
        }
      ]
    },
    {
      "cell_type": "code",
      "source": [
        "t=18"
      ],
      "metadata": {
        "id": "uLTug-YJDW8D"
      },
      "execution_count": 23,
      "outputs": []
    },
    {
      "cell_type": "code",
      "source": [
        "os.chdir('/content/gdrive/MyDrive/laplstm/final/t'+str(t))"
      ],
      "metadata": {
        "id": "ubPkwGQnA8Wx"
      },
      "execution_count": 24,
      "outputs": []
    },
    {
      "cell_type": "code",
      "source": [
        "import os\n",
        "github_raw_link=\"https://raw.githubusercontent.com/Aryansh085/LAP/main/858417d1-7d54-4115-a01b-fdda5e03ada3_testing_combined_rows4035_disc_1_0p9_MULTIPLY_preproces_155cols.csv\"\n",
        "df1=pd.read_csv((github_raw_link),header = None)\n",
        "dftemp=np.array(df1)\n",
        "dftemp.shape\n",
        "dftemp2=dftemp[:,5:]\n",
        "dftemp2=np.array(dftemp2)\n",
        "print(dftemp2.shape)"
      ],
      "metadata": {
        "id": "3UWvhrydJ8hA",
        "colab": {
          "base_uri": "https://localhost:8080/"
        },
        "outputId": "70e0182a-101b-45c1-d59e-a730962672b9"
      },
      "execution_count": 25,
      "outputs": [
        {
          "output_type": "stream",
          "name": "stdout",
          "text": [
            "(4035, 150)\n"
          ]
        }
      ]
    },
    {
      "cell_type": "code",
      "source": [
        "# dftemp2\n",
        "dftemp2.shape\n",
        "# dftemp2=pd.DataFrame(dftemp2)\n",
        "# dftemp2.head()"
      ],
      "metadata": {
        "id": "h00YSxPn8rUk",
        "colab": {
          "base_uri": "https://localhost:8080/"
        },
        "outputId": "ccb4dbc5-f40d-4bcd-a303-6d6f1f8254a5"
      },
      "execution_count": 26,
      "outputs": [
        {
          "output_type": "execute_result",
          "data": {
            "text/plain": [
              "(4035, 150)"
            ]
          },
          "metadata": {},
          "execution_count": 26
        }
      ]
    },
    {
      "cell_type": "markdown",
      "source": [
        "--> muliply the reward of that instance into the loss of that instance to give weight"
      ],
      "metadata": {
        "id": "pPfqIsthYP2X"
      }
    },
    {
      "cell_type": "code",
      "source": [
        "from sklearn.preprocessing import StandardScaler\n",
        "\n",
        "slr=StandardScaler()\n",
        "slr.fit(dftemp2)\n",
        "dftemp2 = slr.transform(dftemp2)"
      ],
      "metadata": {
        "id": "kWYAqDfnO_1i"
      },
      "execution_count": 27,
      "outputs": []
    },
    {
      "cell_type": "code",
      "source": [
        "# f1-score function\n",
        "def get_f1(y_true, y_pred): #taken from old keras source code\n",
        "    true_positives = K.sum(K.round(K.clip(y_true * y_pred, 0, 1)))\n",
        "    possible_positives = K.sum(K.round(K.clip(y_true, 0, 1)))\n",
        "    predicted_positives = K.sum(K.round(K.clip(y_pred, 0, 1)))\n",
        "    precision = true_positives / (predicted_positives + K.epsilon())\n",
        "    recall = true_positives / (possible_positives + K.epsilon())\n",
        "    f1_val = 2*(precision*recall)/(precision+recall+K.epsilon())\n",
        "    return f1_val\n",
        "    "
      ],
      "metadata": {
        "id": "4i-6LDL58GyW"
      },
      "execution_count": 28,
      "outputs": []
    },
    {
      "cell_type": "code",
      "source": [],
      "metadata": {
        "id": "83zizsyvKHzh"
      },
      "execution_count": 28,
      "outputs": []
    },
    {
      "cell_type": "code",
      "source": [
        "y=np.array(dftemp[:,0])\n",
        "print(y)\n",
        "y_new=y[t:]\n",
        "y_new.shape\n"
      ],
      "metadata": {
        "id": "XmXnkjOiKIGQ",
        "colab": {
          "base_uri": "https://localhost:8080/"
        },
        "outputId": "c57dd8f9-0483-4c15-c3ea-87f1a72ffbda"
      },
      "execution_count": 29,
      "outputs": [
        {
          "output_type": "stream",
          "name": "stdout",
          "text": [
            "[2. 0. 0. ... 0. 2. 2.]\n"
          ]
        },
        {
          "output_type": "execute_result",
          "data": {
            "text/plain": [
              "(4017,)"
            ]
          },
          "metadata": {},
          "execution_count": 29
        }
      ]
    },
    {
      "cell_type": "code",
      "source": [
        "x=np.array(dftemp2)\n",
        "# print(x)\n",
        "# print(x.shape)\n",
        "x.shape,y_new.shape"
      ],
      "metadata": {
        "id": "3JPzLQQmKhZk",
        "colab": {
          "base_uri": "https://localhost:8080/"
        },
        "outputId": "8b757c65-5d6a-4687-e36d-f69df442f688"
      },
      "execution_count": 30,
      "outputs": [
        {
          "output_type": "execute_result",
          "data": {
            "text/plain": [
              "((4035, 150), (4017,))"
            ]
          },
          "metadata": {},
          "execution_count": 30
        }
      ]
    },
    {
      "cell_type": "code",
      "source": [
        "x_3d=[]\n",
        "for i in range(4035-t):\n",
        "  tmp=[]\n",
        "  for j in range(t):\n",
        "    tmp.append(x[j+i])\n",
        "  x_3d.append(tmp)\n",
        "x_3d= np.array(x_3d)\n",
        "x_3d.shape"
      ],
      "metadata": {
        "id": "hdDY6fhENZ2-",
        "colab": {
          "base_uri": "https://localhost:8080/"
        },
        "outputId": "327fd0e2-36ac-479a-db34-aa87f631ec4f"
      },
      "execution_count": 31,
      "outputs": [
        {
          "output_type": "execute_result",
          "data": {
            "text/plain": [
              "(4017, 18, 150)"
            ]
          },
          "metadata": {},
          "execution_count": 31
        }
      ]
    },
    {
      "cell_type": "code",
      "source": [
        "train_test_ratio=0.8\n",
        "print(x_3d.shape[0])\n",
        "x_train=[]\n",
        "y_train=[]\n",
        "x_test=[]\n",
        "y_test=[]\n",
        "for i in range(x_3d.shape[0]):\n",
        "  l=[]\n",
        "  ly=[]\n",
        "  no=np.random.randint(100)\n",
        "  if(no<80):\n",
        "    l=x_3d[i]\n",
        "    ly=y_new[i]\n",
        "    x_train.append(l)\n",
        "    y_train.append(ly)\n",
        "  else:\n",
        "    l=x_3d[i]\n",
        "    ly=y_new[i]\n",
        "    x_test.append(l)\n",
        "    y_test.append(ly)\n",
        "\n",
        "\n",
        "x_train=np.array(x_train)\n",
        "y_train=np.array(y_train)\n",
        "x_test=np.array(x_test)\n",
        "y_test=np.array(y_test)\n",
        "x_train.shape,y_train.shape,x_test.shape,y_test.shape"
      ],
      "metadata": {
        "id": "AwnZ3Mh1Khi8",
        "colab": {
          "base_uri": "https://localhost:8080/"
        },
        "outputId": "c293fe66-5607-4255-8070-1879120c9346"
      },
      "execution_count": 32,
      "outputs": [
        {
          "output_type": "stream",
          "name": "stdout",
          "text": [
            "4017\n"
          ]
        },
        {
          "output_type": "execute_result",
          "data": {
            "text/plain": [
              "((3224, 18, 150), (3224,), (793, 18, 150), (793,))"
            ]
          },
          "metadata": {},
          "execution_count": 32
        }
      ]
    },
    {
      "cell_type": "code",
      "source": [
        "cnt0=0\n",
        "cnt1=0\n",
        "cnt2=0\n",
        "for i in range(x_train.shape[0]):\n",
        "  if(y_train[i]==0):\n",
        "    cnt0+=1\n",
        "  elif(y_train[i]==1):\n",
        "    cnt1+=1\n",
        "  elif(y_train[i]==2):\n",
        "    cnt2+=1\n",
        "print(cnt0)\n",
        "print(cnt1)\n",
        "print(cnt2)  "
      ],
      "metadata": {
        "id": "xlijLVYecmcq",
        "colab": {
          "base_uri": "https://localhost:8080/"
        },
        "outputId": "e15b7263-4f81-45c3-8af3-03d3c1837d16"
      },
      "execution_count": 33,
      "outputs": [
        {
          "output_type": "stream",
          "name": "stdout",
          "text": [
            "1449\n",
            "846\n",
            "929\n"
          ]
        }
      ]
    },
    {
      "cell_type": "code",
      "source": [
        "x_train_1=[]\n",
        "y_train_1=[]\n",
        "c1=0\n",
        "c2=0\n",
        "c3=0\n",
        "x1=(cnt1-cnt0)/(cnt1)\n",
        "x1=x1*(-100)\n",
        "x1=int(x1)\n",
        "print(x1)\n",
        "x2=(cnt2-cnt0)/(cnt2)\n",
        "x2=x2*(-100)\n",
        "x2=int(x2)\n",
        "print(x2)\n",
        "for i in range(x_train.shape[0]):\n",
        "  if(y_train[i]==0):\n",
        "    x_train_1.append(x_train[i])\n",
        "    y_train_1.append(0)\n",
        "    c1+=1\n",
        "  elif(y_train[i]==1):\n",
        "    x_train_1.append(x_train[i])\n",
        "    y_train_1.append(1)\n",
        "    c2+=1\n",
        "  elif(y_train[i]==2 ):\n",
        "    x_train_1.append(x_train[i])\n",
        "    y_train_1.append(2)\n",
        "    c3=c3+1\n",
        "for i in range(x_train.shape[0]):\n",
        "  if(y_train[i]==1):\n",
        "    no=np.random.randint(100)\n",
        "    if(no>=100-x1):\n",
        "      x_train_1.append(x_train[i])\n",
        "      y_train_1.append(1)\n",
        "      c2+=1\n",
        "  elif(y_train[i]==2 ):\n",
        "    no=np.random.randint(100)\n",
        "    if(no>=100-x2):\n",
        "      x_train_1.append(x_train[i])\n",
        "      y_train_1.append(2)\n",
        "      c3+=1\n",
        "\n",
        "y_train=[]\n",
        "y_train=y_train_1\n",
        "x_train=[]\n",
        "x_train=x_train_1\n",
        "x_train=np.array(x_train)\n",
        "y_train=np.array(y_train)\n",
        "print(c1)\n",
        "print(c2)\n",
        "print(c3)"
      ],
      "metadata": {
        "id": "PqOHcbhQcuo8",
        "colab": {
          "base_uri": "https://localhost:8080/"
        },
        "outputId": "13dd97b7-3a39-4a02-a8e1-fc72e1146fd3"
      },
      "execution_count": 34,
      "outputs": [
        {
          "output_type": "stream",
          "name": "stdout",
          "text": [
            "71\n",
            "55\n",
            "1449\n",
            "1417\n",
            "1443\n"
          ]
        }
      ]
    },
    {
      "cell_type": "code",
      "source": [
        "sklearn_weights=class_weight.compute_class_weight(class_weight='balanced',classes=np.unique(y_train),y=y_train)\n",
        "sklearn_weights=dict(zip(np.unique(y_train),sklearn_weights))\n",
        "sklearn_weights"
      ],
      "metadata": {
        "id": "EYzwuCcAbDKT",
        "colab": {
          "base_uri": "https://localhost:8080/"
        },
        "outputId": "c012e4be-f127-4b5f-eadd-d373a8550e3a"
      },
      "execution_count": 35,
      "outputs": [
        {
          "output_type": "execute_result",
          "data": {
            "text/plain": [
              "{0: 0.9912583390844261, 1: 1.0136438485062338, 2: 0.9953799953799953}"
            ]
          },
          "metadata": {},
          "execution_count": 35
        }
      ]
    },
    {
      "cell_type": "code",
      "source": [
        "\n",
        "# model = Sequential()\n",
        "# model.add(LSTM(200, activation='relu', return_sequences=True, input_shape=( t,150,)))\n",
        "# model.add(LSTM(100, activation='relu', return_sequences=True))\n",
        "# model.add(LSTM(50, activation='relu', return_sequences=True))\n",
        "# model.add(LSTM(25, activation='relu'))\n",
        "# model.add(Dense(20, activation='relu'))\n",
        "# model.add(Dense(10, activation='relu'))\n",
        "# model.add(Dense(3))\n",
        "# model.compile(optimizer='SGD', loss='sparse_categorical_crossentropy',metrics=['accuracy'])\n",
        "# history = model.fit(x_train, y_train, epochs=10, validation_split=0.2, verbose=1)\n",
        "# test_output = model.predict(x_test, verbose=1)\n",
        "# # history = model.fit(X, Y, epochs=1000, validation_split=0.2, verbose=1)\n",
        "# # test_output = model.predict(x=, verbose=0)\n",
        "# # print(test_output)"
      ],
      "metadata": {
        "id": "rhgsSos1KIbA"
      },
      "execution_count": 36,
      "outputs": []
    },
    {
      "cell_type": "code",
      "source": [
        "# sklearn_weights={0:1738,1:2348,2:2362}\n",
        "model = Sequential()\n",
        "model.add(LSTM(200, activation='relu', return_sequences=True, input_shape=( t,150,)))\n",
        "model.add(LSTM(400, activation='relu', return_sequences=True))\n",
        "model.add(LSTM(800, activation='relu', return_sequences=True))\n",
        "model.add(LSTM(150, activation='relu'))\n",
        "model.add(Dense(100, activation='relu'))\n",
        "model.add(Dense(64, activation='relu'))\n",
        "model.add(Dense(10, activation='relu'))\n",
        "model.add(Dense(3,activation='sigmoid'))\n",
        "optimi=keras.optimizers.Adam()\n",
        "model.compile(optimizer=optimi, loss='sparse_categorical_crossentropy',metrics=['accuracy',get_f1])\n",
        "\n",
        "# history = model.fit(x_train, y_train, epochs=30, validation_split=0.2, verbose=1)\n",
        "history = model.fit(x_train, y_train, epochs=25, validation_split=0.2, verbose=1,class_weight=sklearn_weights)\n",
        "test_output = model.predict(x_test, verbose=1)\n"
      ],
      "metadata": {
        "id": "lwHPGS2iXMXc",
        "colab": {
          "base_uri": "https://localhost:8080/"
        },
        "outputId": "59ed1723-050e-438e-ea22-ce7433b34efc"
      },
      "execution_count": 37,
      "outputs": [
        {
          "output_type": "stream",
          "name": "stderr",
          "text": [
            "WARNING:tensorflow:Layer lstm_4 will not use cuDNN kernels since it doesn't meet the criteria. It will use a generic GPU kernel as fallback when running on GPU.\n",
            "WARNING:tensorflow:Layer lstm_5 will not use cuDNN kernels since it doesn't meet the criteria. It will use a generic GPU kernel as fallback when running on GPU.\n",
            "WARNING:tensorflow:Layer lstm_6 will not use cuDNN kernels since it doesn't meet the criteria. It will use a generic GPU kernel as fallback when running on GPU.\n",
            "WARNING:tensorflow:Layer lstm_7 will not use cuDNN kernels since it doesn't meet the criteria. It will use a generic GPU kernel as fallback when running on GPU.\n"
          ]
        },
        {
          "output_type": "stream",
          "name": "stdout",
          "text": [
            "Epoch 1/25\n",
            "108/108 [==============================] - 22s 157ms/step - loss: 1.1040 - accuracy: 0.4180 - get_f1: 1.4674 - val_loss: 1.5158 - val_accuracy: 0.0000e+00 - val_get_f1: 2.0020\n",
            "Epoch 2/25\n",
            "108/108 [==============================] - 16s 151ms/step - loss: 1.0853 - accuracy: 0.4340 - get_f1: 1.4773 - val_loss: 1.1481 - val_accuracy: 0.2355 - val_get_f1: 2.2765\n",
            "Epoch 3/25\n",
            "108/108 [==============================] - 18s 167ms/step - loss: 1.0177 - accuracy: 0.5051 - get_f1: 1.5848 - val_loss: 0.9947 - val_accuracy: 0.4107 - val_get_f1: 2.0073\n",
            "Epoch 4/25\n",
            "108/108 [==============================] - 17s 152ms/step - loss: 0.9488 - accuracy: 0.5390 - get_f1: 1.4971 - val_loss: 1.4426 - val_accuracy: 0.3237 - val_get_f1: 2.1890\n",
            "Epoch 5/25\n",
            "108/108 [==============================] - 16s 151ms/step - loss: 1.1877 - accuracy: 0.4790 - get_f1: 1.4349 - val_loss: 1.1673 - val_accuracy: 0.0000e+00 - val_get_f1: 2.0020\n",
            "Epoch 6/25\n",
            "108/108 [==============================] - 17s 155ms/step - loss: 1.0272 - accuracy: 0.4204 - get_f1: 1.4684 - val_loss: 1.3285 - val_accuracy: 0.0000e+00 - val_get_f1: 2.0020\n",
            "Epoch 7/25\n",
            "108/108 [==============================] - 18s 165ms/step - loss: 0.9862 - accuracy: 0.4999 - get_f1: 1.3934 - val_loss: 1.2402 - val_accuracy: 0.3202 - val_get_f1: 1.9412\n",
            "Epoch 8/25\n",
            "108/108 [==============================] - 16s 151ms/step - loss: 0.9581 - accuracy: 0.5544 - get_f1: 1.3728 - val_loss: 1.2090 - val_accuracy: 0.3828 - val_get_f1: 1.7168\n",
            "Epoch 9/25\n",
            "108/108 [==============================] - 17s 154ms/step - loss: 0.9204 - accuracy: 0.5686 - get_f1: 1.1823 - val_loss: 1.1411 - val_accuracy: 0.4049 - val_get_f1: 1.7123\n",
            "Epoch 10/25\n",
            "108/108 [==============================] - 21s 199ms/step - loss: 0.8906 - accuracy: 0.5846 - get_f1: 1.1855 - val_loss: 1.1307 - val_accuracy: 0.4084 - val_get_f1: 1.6207\n",
            "Epoch 11/25\n",
            "108/108 [==============================] - 17s 155ms/step - loss: 0.8486 - accuracy: 0.6072 - get_f1: 1.1252 - val_loss: 1.0989 - val_accuracy: 0.4130 - val_get_f1: 1.5644\n",
            "Epoch 12/25\n",
            "108/108 [==============================] - 17s 161ms/step - loss: 0.8669 - accuracy: 0.5947 - get_f1: 1.1203 - val_loss: 1.0306 - val_accuracy: 0.5093 - val_get_f1: 1.6507\n",
            "Epoch 13/25\n",
            "108/108 [==============================] - 17s 159ms/step - loss: 0.7992 - accuracy: 0.6379 - get_f1: 1.1369 - val_loss: 0.9833 - val_accuracy: 0.5162 - val_get_f1: 1.5651\n",
            "Epoch 14/25\n",
            "108/108 [==============================] - 17s 155ms/step - loss: 0.7472 - accuracy: 0.6556 - get_f1: 1.0526 - val_loss: 0.8113 - val_accuracy: 0.6369 - val_get_f1: 1.6033\n",
            "Epoch 15/25\n",
            "108/108 [==============================] - 17s 154ms/step - loss: 0.6537 - accuracy: 0.7270 - get_f1: 0.9371 - val_loss: 1.0141 - val_accuracy: 0.5499 - val_get_f1: 1.5233\n",
            "Epoch 16/25\n",
            "108/108 [==============================] - 19s 173ms/step - loss: 0.8159 - accuracy: 0.6890 - get_f1: 0.8991 - val_loss: 0.9832 - val_accuracy: 0.5545 - val_get_f1: 1.6625\n",
            "Epoch 17/25\n",
            "108/108 [==============================] - 17s 153ms/step - loss: 0.9313 - accuracy: 0.6115 - get_f1: 1.2778 - val_loss: 0.8880 - val_accuracy: 0.5418 - val_get_f1: 1.9760\n",
            "Epoch 18/25\n",
            "108/108 [==============================] - 17s 154ms/step - loss: 0.7873 - accuracy: 0.6536 - get_f1: 1.0627 - val_loss: 0.9157 - val_accuracy: 0.5916 - val_get_f1: 1.2796\n",
            "Epoch 19/25\n",
            "108/108 [==============================] - 18s 170ms/step - loss: 0.7966 - accuracy: 0.6304 - get_f1: 0.8240 - val_loss: 0.8996 - val_accuracy: 0.5000 - val_get_f1: 1.6461\n",
            "Epoch 20/25\n",
            "108/108 [==============================] - 16s 150ms/step - loss: 1.0066 - accuracy: 0.4497 - get_f1: 0.9526 - val_loss: 0.6895 - val_accuracy: 0.6914 - val_get_f1: 1.1659\n",
            "Epoch 21/25\n",
            "108/108 [==============================] - 16s 151ms/step - loss: 0.6024 - accuracy: 0.7586 - get_f1: 0.6617 - val_loss: 0.6078 - val_accuracy: 0.8747 - val_get_f1: 1.0373\n",
            "Epoch 22/25\n",
            "108/108 [==============================] - 18s 169ms/step - loss: 0.4785 - accuracy: 0.8216 - get_f1: 0.6062 - val_loss: 0.4306 - val_accuracy: 0.9304 - val_get_f1: 1.0344\n",
            "Epoch 23/25\n",
            "108/108 [==============================] - 18s 171ms/step - loss: 0.5012 - accuracy: 0.8065 - get_f1: 0.5960 - val_loss: 0.5060 - val_accuracy: 0.8619 - val_get_f1: 0.9971\n",
            "Epoch 24/25\n",
            "108/108 [==============================] - 20s 183ms/step - loss: 0.4754 - accuracy: 0.8372 - get_f1: 0.6231 - val_loss: 0.4201 - val_accuracy: 0.8886 - val_get_f1: 1.3190\n",
            "Epoch 25/25\n",
            "108/108 [==============================] - 17s 158ms/step - loss: 5.3704 - accuracy: 0.5245 - get_f1: 0.9193 - val_loss: 0.9394 - val_accuracy: 0.5000 - val_get_f1: 1.6673\n",
            "25/25 [==============================] - 1s 15ms/step\n"
          ]
        }
      ]
    },
    {
      "cell_type": "code",
      "source": [
        "test_output_1=np.array([np.argmax(i)  for i in test_output])\n",
        "from sklearn.metrics import confusion_matrix,accuracy_score\n",
        "print(confusion_matrix(y_test,test_output_1))\n",
        "test_output=pd.DataFrame(test_output)\n",
        "print(accuracy_score(y_test,test_output_1))\n"
      ],
      "metadata": {
        "id": "Q_hmR6MK_Bq5",
        "colab": {
          "base_uri": "https://localhost:8080/"
        },
        "outputId": "2ca730f6-63db-4f93-d0c5-a85781ce74e0"
      },
      "execution_count": 38,
      "outputs": [
        {
          "output_type": "stream",
          "name": "stdout",
          "text": [
            "[[  0   0 374]\n",
            " [  0   0 207]\n",
            " [  0   0 212]]\n",
            "0.2673392181588903\n"
          ]
        }
      ]
    },
    {
      "cell_type": "code",
      "source": [
        "print(get_f1(y_test.astype('float32'), test_output_1.astype('float32')))"
      ],
      "metadata": {
        "id": "ZsHojwC3G8gQ",
        "colab": {
          "base_uri": "https://localhost:8080/"
        },
        "outputId": "c2e84299-78b7-45e3-abfc-293d66f3a195"
      },
      "execution_count": 39,
      "outputs": [
        {
          "output_type": "stream",
          "name": "stdout",
          "text": [
            "tf.Tensor(0.69141906, shape=(), dtype=float32)\n"
          ]
        }
      ]
    },
    {
      "cell_type": "code",
      "source": [
        "x_train_reshaped = x_train.reshape(x_train.shape[0], -1)\n",
        "x_test_reshaped = x_test.reshape(x_test.shape[0], -1)\n",
        "savetxt('arrxtrain.csv', x_train_reshaped, delimiter=',')\n",
        "savetxt('arrytrain.csv', y_train, delimiter=',')\n",
        "savetxt('arrxtest.csv', x_test_reshaped, delimiter=',')\n",
        "savetxt('arrytest.csv', y_test, delimiter=',')"
      ],
      "metadata": {
        "id": "oxhtZHtkBWOe"
      },
      "execution_count": 40,
      "outputs": []
    }
  ]
}